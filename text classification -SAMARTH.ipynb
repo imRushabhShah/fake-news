{
 "cells": [
  {
   "cell_type": "code",
   "execution_count": 1,
   "metadata": {},
   "outputs": [
    {
     "name": "stderr",
     "output_type": "stream",
     "text": [
      "Using TensorFlow backend.\n"
     ]
    }
   ],
   "source": [
    "import json\n",
    "import glob\n",
    "from tqdm import tqdm\n",
    "import pandas as pd\n",
    "import numpy as np\n",
    "from nltk.tokenize import sent_tokenize, word_tokenize\n",
    "\n",
    "import matplotlib.pyplot as plt\n",
    "\n",
    "from sklearn.model_selection import train_test_split\n",
    "from sklearn import metrics\n",
    "from sklearn.model_selection import GridSearchCV, StratifiedKFold\n",
    "from sklearn.metrics import f1_score, roc_auc_score\n",
    "from sklearn.model_selection import train_test_split\n",
    "\n",
    "from keras.preprocessing.text import Tokenizer\n",
    "from keras.preprocessing.sequence import pad_sequences\n",
    "from keras.layers import Dense, Input, CuDNNLSTM, Embedding, Dropout, Activation,TimeDistributed\n",
    "from keras.layers import Bidirectional, LSTM\n",
    "from keras.layers import Input, Embedding, Dense, Conv2D, MaxPool2D, concatenate,BatchNormalization,MaxPooling1D, Convolution1D\n",
    "from keras.layers import Reshape, Flatten, Concatenate, Dropout, SpatialDropout1D, RepeatVector, Permute, merge\n",
    "from keras.optimizers import Adam\n",
    "from keras.models import Sequential, Model\n",
    "from keras import backend as K\n",
    "from keras.engine.topology import Layer\n",
    "from keras import initializers, regularizers, constraints, optimizers, layers\n",
    "from keras.layers import concatenate\n",
    "from keras.callbacks import *\n",
    "from keras.utils import to_categorical\n"
   ]
  },
  {
   "cell_type": "code",
   "execution_count": 2,
   "metadata": {},
   "outputs": [
    {
     "data": {
      "text/plain": [
       "[]"
      ]
     },
     "execution_count": 2,
     "metadata": {},
     "output_type": "execute_result"
    }
   ],
   "source": [
    "import keras\n",
    "from keras.backend.tensorflow_backend import set_session\n",
    "import tensorflow as tf\n",
    "config = tf.ConfigProto()\n",
    "config.gpu_options.allow_growth = True  # dynamically grow the memory used on the GPU\n",
    "config.log_device_placement = True  # to log device placement (on which device the operation ran)\n",
    "sess = tf.Session(config=config)\n",
    "set_session(sess)\n",
    "\n",
    "keras.backend.tensorflow_backend._get_available_gpus()"
   ]
  },
  {
   "cell_type": "code",
   "execution_count": 3,
   "metadata": {},
   "outputs": [],
   "source": [
    "#google word2vec\n",
    "# from gensim.models import KeyedVectors as wv\n",
    "# word_vectors = wv.load_word2vec_format('./input/embeddings/GoogleNews-vectors-negative300/GoogleNews-vectors-negative300.bin', binary = True)\n",
    "# EMBEDDING_DIM =300\n",
    "\n",
    "#glove\n",
    "word_vectors = {}\n",
    "f = open('/home/samarth/embeddings/glove.840B.300d/glove.840B.300d.txt')\n",
    "for line in f:\n",
    "    values = line.split()\n",
    "    word = ''.join(values[:-300])\n",
    "    coefs = np.asarray(values[-300:], dtype='float32')\n",
    "    word_vectors[word] = coefs\n",
    "f.close()\n",
    "EMBEDDING_DIM =300"
   ]
  },
  {
   "cell_type": "code",
   "execution_count": 4,
   "metadata": {
    "scrolled": true
   },
   "outputs": [],
   "source": [
    "# texts = []\n",
    "# titles =[]\n",
    "# labels =[]\n",
    "# for label in ['fake','real']:\n",
    "#     for typ in ['gossipcop','politifact']:\n",
    "#         path = './../datasets/FakeNewsNet/code/fakenewsnet_dataset/'+typ+'/'+label+'/*/news content.json'\n",
    "#         files = glob.glob(path)\n",
    "#         for name in tqdm(files):\n",
    "#             with open(name) as json_file:\n",
    "#                 data = json.load(json_file)\n",
    "#                 if label == 'fake': \n",
    "#                     labels.append(1)\n",
    "#                 else:\n",
    "#                     labels.append(0)\n",
    "#                 texts.append(' '.join(word_tokenize(data['text'])))\n",
    "#     #             titles.append(' '.join(word_tokenize(data['title'])))\n",
    "\n",
    "# df = pd.DataFrame()\n",
    "# # df['title'] = title\n",
    "# df['text'] = texts\n",
    "# df['label'] = labels\n",
    "# df.to_pickle('./pickles/text.p')"
   ]
  },
  {
   "cell_type": "code",
   "execution_count": 5,
   "metadata": {},
   "outputs": [],
   "source": [
    "df = pd.read_pickle('./pickles/text.p')"
   ]
  },
  {
   "cell_type": "code",
   "execution_count": 6,
   "metadata": {},
   "outputs": [
    {
     "name": "stdout",
     "output_type": "stream",
     "text": [
      "Train shape :  (17802, 2)\n",
      "Test shape :  (4451, 2)\n"
     ]
    }
   ],
   "source": [
    "df_train, df_test = train_test_split(df, test_size=0.2,random_state=1)\n",
    "print(\"Train shape : \",df_train.shape)\n",
    "print(\"Test shape : \",df_test.shape)"
   ]
  },
  {
   "cell_type": "code",
   "execution_count": 7,
   "metadata": {},
   "outputs": [
    {
     "name": "stderr",
     "output_type": "stream",
     "text": [
      "/home/samarth/anaconda3/envs/tf36/lib/python3.6/site-packages/ipykernel_launcher.py:7: SettingWithCopyWarning: \n",
      "A value is trying to be set on a copy of a slice from a DataFrame\n",
      "\n",
      "See the caveats in the documentation: http://pandas.pydata.org/pandas-docs/stable/indexing.html#indexing-view-versus-copy\n",
      "  import sys\n",
      "/home/samarth/anaconda3/envs/tf36/lib/python3.6/site-packages/ipykernel_launcher.py:8: SettingWithCopyWarning: \n",
      "A value is trying to be set on a copy of a slice from a DataFrame\n",
      "\n",
      "See the caveats in the documentation: http://pandas.pydata.org/pandas-docs/stable/indexing.html#indexing-view-versus-copy\n",
      "  \n"
     ]
    },
    {
     "name": "stdout",
     "output_type": "stream",
     "text": [
      "Found 147878 unique tokens.\n"
     ]
    }
   ],
   "source": [
    "# df_train_pos = df_train[df_train['label']==1]\n",
    "# df_train_neg = df_train[df_train['label']==0].sample(len(df_train_pos)*2,random_state=1)\n",
    "# df_train = pd.concat([df_train_pos,df_train_neg])\n",
    "# df_train = df_train.sample(frac=1,random_state=1)\n",
    "# print(\"Train shape : \",df_train.shape)\n",
    "\n",
    "df_train.dropna(inplace=True)\n",
    "df_test.dropna(inplace=True)\n",
    "\n",
    "MAX_SEQUENCE_LENGTH=4000\n",
    "\n",
    "\n",
    "tokenizer = Tokenizer(lower=False)\n",
    "tokenizer.fit_on_texts(df_train['text'])\n",
    "sequences = tokenizer.texts_to_sequences(df_train['text'])\n",
    "\n",
    "word_index = tokenizer.word_index\n",
    "print('Found %s unique tokens.' % len(word_index))\n",
    "\n",
    "train_X = pad_sequences(sequences, maxlen=MAX_SEQUENCE_LENGTH, padding=\"post\")\n",
    "train_Y = df_train['label']\n",
    "\n",
    "sequences = tokenizer.texts_to_sequences(df_test['text'])\n",
    "test_X = pad_sequences(sequences, maxlen=MAX_SEQUENCE_LENGTH, padding=\"post\")\n",
    "test_Y = df_test['label']"
   ]
  },
  {
   "cell_type": "code",
   "execution_count": 8,
   "metadata": {},
   "outputs": [
    {
     "name": "stdout",
     "output_type": "stream",
     "text": [
      "3658.860914503988\n",
      "2032.0\n",
      "7162.067879495823\n",
      "110958\n"
     ]
    },
    {
     "data": {
      "text/plain": [
       "(array([1.6841e+04, 5.7400e+02, 2.0000e+02, 6.5000e+01, 4.7000e+01,\n",
       "        2.7000e+01, 1.1000e+01, 1.4000e+01, 1.3000e+01, 1.0000e+01]),\n",
       " array([     0. ,  11095.8,  22191.6,  33287.4,  44383.2,  55479. ,\n",
       "         66574.8,  77670.6,  88766.4,  99862.2, 110958. ]),\n",
       " <a list of 10 Patch objects>)"
      ]
     },
     "execution_count": 8,
     "metadata": {},
     "output_type": "execute_result"
    },
    {
     "data": {
      "image/png": "[encoded data removed]",
      "text/plain": [
       "<Figure size 432x288 with 1 Axes>"
      ]
     },
     "metadata": {
      "needs_background": "light"
     },
     "output_type": "display_data"
    }
   ],
   "source": [
    "\n",
    "lengths = []\n",
    "for sent in df_train['text']:\n",
    "#     print(sent)\n",
    "    lengths.append(len(sent.split(' ')))\n",
    "#     if max(sent)>50:\n",
    "#         print(sent)\n",
    "print(np.mean(lengths))\n",
    "print(np.median(lengths))\n",
    "print(np.std(lengths))\n",
    "print(np.max(lengths))\n",
    "plt.hist(lengths,density=False)"
   ]
  },
  {
   "cell_type": "code",
   "execution_count": 9,
   "metadata": {},
   "outputs": [
    {
     "name": "stdout",
     "output_type": "stream",
     "text": [
      "(17802, 4000)\n",
      "(17802,)\n"
     ]
    }
   ],
   "source": [
    "embedding_matrix = np.zeros((len(word_index) + 1, EMBEDDING_DIM))\n",
    "for word, i in word_index.items():\n",
    "    try:\n",
    "        word_vector = word_vectors[word]\n",
    "#     if word_vector is not None:\n",
    "        # words not found in embedding index will be all-zeros.\n",
    "        embedding_matrix[i] = word_vector\n",
    "    except KeyError:\n",
    "        continue\n",
    "\n",
    "print(train_X.shape)\n",
    "print(train_Y.shape)"
   ]
  },
  {
   "cell_type": "code",
   "execution_count": 15,
   "metadata": {},
   "outputs": [],
   "source": [
    "def f1(y_true, y_pred):\n",
    "    '''\n",
    "    metric from here \n",
    "    https://stackoverflow.com/questions/43547402/how-to-calculate-f1-macro-in-keras\n",
    "    '''\n",
    "    def recall(y_true, y_pred):\n",
    "        \"\"\"Recall metric.\n",
    "\n",
    "        Only computes a batch-wise average of recall.\n",
    "\n",
    "        Computes the recall, a metric for multi-label classification of\n",
    "        how many relevant items are selected.\n",
    "        \"\"\"\n",
    "        true_positives = K.sum(K.round(K.clip(y_true * y_pred, 0, 1)))\n",
    "        possible_positives = K.sum(K.round(K.clip(y_true, 0, 1)))\n",
    "        recall = true_positives / (possible_positives + K.epsilon())\n",
    "        return recall\n",
    "\n",
    "    def precision(y_true, y_pred):\n",
    "        \"\"\"Precision metric.\n",
    "\n",
    "        Only computes a batch-wise average of precision.\n",
    "\n",
    "        Computes the precision, a metric for multi-label classification of\n",
    "        how many selected items are relevant.\n",
    "        \"\"\"\n",
    "        true_positives = K.sum(K.round(K.clip(y_true * y_pred, 0, 1)))\n",
    "        predicted_positives = K.sum(K.round(K.clip(y_pred, 0, 1)))\n",
    "        precision = true_positives / (predicted_positives + K.epsilon())\n",
    "        return precision\n",
    "    \n",
    "    # So we only measure F1 on the target y value:\n",
    "    y_true = y_true[:, 0]\n",
    "    y_pred = y_pred[:, 0]\n",
    "    \n",
    "    precision = precision(y_true, y_pred)\n",
    "    recall = recall(y_true, y_pred)\n",
    "    return 2 * ((precision * recall) / (precision + recall + K.epsilon()))"
   ]
  },
  {
   "cell_type": "code",
   "execution_count": 16,
   "metadata": {},
   "outputs": [
    {
     "name": "stdout",
     "output_type": "stream",
     "text": [
      "Model: \"model_2\"\n",
      "__________________________________________________________________________________________________\n",
      "Layer (type)                    Output Shape         Param #     Connected to                     \n",
      "==================================================================================================\n",
      "input_2 (InputLayer)            (None, 4000)         0                                            \n",
      "__________________________________________________________________________________________________\n",
      "embedding_2 (Embedding)         (None, 4000, 300)    44363700    input_2[0][0]                    \n",
      "__________________________________________________________________________________________________\n",
      "conv1d_3 (Conv1D)               (None, 3998, 10)     9010        embedding_2[0][0]                \n",
      "__________________________________________________________________________________________________\n",
      "conv1d_4 (Conv1D)               (None, 3993, 10)     24010       embedding_2[0][0]                \n",
      "__________________________________________________________________________________________________\n",
      "max_pooling1d_3 (MaxPooling1D)  (None, 1999, 10)     0           conv1d_3[0][0]                   \n",
      "__________________________________________________________________________________________________\n",
      "max_pooling1d_4 (MaxPooling1D)  (None, 1996, 10)     0           conv1d_4[0][0]                   \n",
      "__________________________________________________________________________________________________\n",
      "flatten_3 (Flatten)             (None, 19990)        0           max_pooling1d_3[0][0]            \n",
      "__________________________________________________________________________________________________\n",
      "flatten_4 (Flatten)             (None, 19960)        0           max_pooling1d_4[0][0]            \n",
      "__________________________________________________________________________________________________\n",
      "concatenate_2 (Concatenate)     (None, 39950)        0           flatten_3[0][0]                  \n",
      "                                                                 flatten_4[0][0]                  \n",
      "__________________________________________________________________________________________________\n",
      "dropout_2 (Dropout)             (None, 39950)        0           concatenate_2[0][0]              \n",
      "__________________________________________________________________________________________________\n",
      "dense_3 (Dense)                 (None, 50)           1997550     dropout_2[0][0]                  \n",
      "__________________________________________________________________________________________________\n",
      "dense_4 (Dense)                 (None, 1)            51          dense_3[0][0]                    \n",
      "==================================================================================================\n",
      "Total params: 46,394,321\n",
      "Trainable params: 2,030,621\n",
      "Non-trainable params: 44,363,700\n",
      "__________________________________________________________________________________________________\n",
      "None\n"
     ]
    }
   ],
   "source": [
    "# model = Sequential()\n",
    "dropout_prob = [0.2,0.2]\n",
    "hidden_dims = 50\n",
    "filter_sizes  = (3,8)\n",
    "num_filters = 10\n",
    "BATCH_SIZE = 32\n",
    "\n",
    "input_shape = (MAX_SEQUENCE_LENGTH,)\n",
    "model_input = Input(shape=input_shape)\n",
    "\n",
    "z = Embedding(len(word_index) + 1,\n",
    "                            EMBEDDING_DIM,\n",
    "                            weights=[embedding_matrix],\n",
    "                            input_length=MAX_SEQUENCE_LENGTH,\n",
    "                            trainable=False)(model_input)\n",
    "\n",
    "conv_blocks = []\n",
    "for sz in filter_sizes:\n",
    "    conv = Convolution1D(filters=num_filters,\n",
    "                         kernel_size=sz,\n",
    "                         padding=\"valid\",\n",
    "                         activation=\"relu\",\n",
    "                         strides=1)(z)\n",
    "    conv = MaxPooling1D(pool_size=2)(conv)\n",
    "    conv = Flatten()(conv)\n",
    "    conv_blocks.append(conv)\n",
    "z = Concatenate()(conv_blocks) if len(conv_blocks) > 1 else conv_blocks[0]\n",
    "\n",
    "z = Dropout(dropout_prob[1])(z)\n",
    "z = Dense(hidden_dims, activation=\"relu\")(z)\n",
    "model_output = Dense(1, activation=\"sigmoid\")(z)\n",
    "\n",
    "model = Model(model_input, model_output)\n",
    "model.compile(loss=\"binary_crossentropy\", optimizer=\"adam\", metrics=[\"accuracy\",f1])\n",
    "\n",
    "print(model.summary())"
   ]
  },
  {
   "cell_type": "code",
   "execution_count": 17,
   "metadata": {},
   "outputs": [
    {
     "name": "stdout",
     "output_type": "stream",
     "text": [
      "Train on 16021 samples, validate on 1781 samples\n",
      "Epoch 1/10\n",
      "16021/16021 [==============================] - 15s 964us/step - loss: 0.4769 - accuracy: 0.7826 - f1: 0.1832 - val_loss: 0.4116 - val_accuracy: 0.8428 - val_f1: 0.5108\n",
      "Epoch 2/10\n",
      "16021/16021 [==============================] - 14s 880us/step - loss: 0.3590 - accuracy: 0.8453 - f1: 0.5840 - val_loss: 0.3846 - val_accuracy: 0.8557 - val_f1: 0.6004\n",
      "Epoch 3/10\n",
      "16021/16021 [==============================] - 14s 897us/step - loss: 0.2650 - accuracy: 0.8854 - f1: 0.7160 - val_loss: 0.4195 - val_accuracy: 0.8433 - val_f1: 0.6114\n",
      "Epoch 4/10\n",
      "16021/16021 [==============================] - 15s 923us/step - loss: 0.1888 - accuracy: 0.9212 - f1: 0.8164 - val_loss: 0.5448 - val_accuracy: 0.8473 - val_f1: 0.5725\n",
      "Epoch 5/10\n",
      "16021/16021 [==============================] - 15s 927us/step - loss: 0.1432 - accuracy: 0.9411 - f1: 0.8647 - val_loss: 0.6072 - val_accuracy: 0.8389 - val_f1: 0.5705\n",
      "Epoch 6/10\n",
      "16021/16021 [==============================] - 15s 938us/step - loss: 0.1078 - accuracy: 0.9572 - f1: 0.9037 - val_loss: 0.7285 - val_accuracy: 0.8360 - val_f1: 0.5574\n",
      "Epoch 7/10\n",
      "16021/16021 [==============================] - 15s 945us/step - loss: 0.0899 - accuracy: 0.9642 - f1: 0.9194 - val_loss: 0.7847 - val_accuracy: 0.8405 - val_f1: 0.5725\n",
      "Epoch 8/10\n",
      "16021/16021 [==============================] - 15s 964us/step - loss: 0.0857 - accuracy: 0.9664 - f1: 0.9232 - val_loss: 0.7820 - val_accuracy: 0.8209 - val_f1: 0.5983\n",
      "Epoch 9/10\n",
      "16021/16021 [==============================] - 15s 958us/step - loss: 0.0754 - accuracy: 0.9684 - f1: 0.9255 - val_loss: 0.9472 - val_accuracy: 0.8355 - val_f1: 0.5813\n",
      "Epoch 10/10\n",
      "16021/16021 [==============================] - 16s 1ms/step - loss: 0.0682 - accuracy: 0.9717 - f1: 0.9369 - val_loss: 0.8989 - val_accuracy: 0.8321 - val_f1: 0.5682\n"
     ]
    }
   ],
   "source": [
    "history = model.fit(train_X, train_Y, epochs=10,batch_size=BATCH_SIZE,validation_split=0.1)"
   ]
  },
  {
   "cell_type": "code",
   "execution_count": 18,
   "metadata": {},
   "outputs": [
    {
     "data": {
      "image/png": "[encoded data removed]",
      "text/plain": [
       "<Figure size 432x288 with 1 Axes>"
      ]
     },
     "metadata": {
      "needs_background": "light"
     },
     "output_type": "display_data"
    }
   ],
   "source": [
    "plt.plot(history.history['accuracy'])\n",
    "plt.plot(history.history['val_accuracy'])\n",
    "plt.title('Model accuracy')\n",
    "plt.ylabel('Accuracy')\n",
    "plt.xlabel('Epoch')\n",
    "plt.legend(['Train', 'Valid'], loc='upper left')\n",
    "plt.show()"
   ]
  },
  {
   "cell_type": "code",
   "execution_count": 19,
   "metadata": {},
   "outputs": [
    {
     "name": "stdout",
     "output_type": "stream",
     "text": [
      "4451/4451 [==============================] - 2s 417us/step\n",
      "0.6041666666666667\n"
     ]
    }
   ],
   "source": [
    "\n",
    "probs= model.predict(test_X,verbose=1,batch_size=50)\n",
    "preds = [0]*len(probs)\n",
    "# print(preds.shape)\n",
    "# print(test_Y.shape)\n",
    "# preds[probs[:,0]>=0.5] =1 \n",
    "print(metrics.f1_score(test_Y, probs>=0.5))"
   ]
  },
  {
   "cell_type": "code",
   "execution_count": 17,
   "metadata": {},
   "outputs": [],
   "source": [
    "# metrics.f1_score(test_Y, (probs>thresh).astype(int)))"
   ]
  },
  {
   "cell_type": "code",
   "execution_count": null,
   "metadata": {},
   "outputs": [],
   "source": []
  }
 ],
 "metadata": {
  "kernelspec": {
   "display_name": "Python 3",
   "language": "python",
   "name": "python3"
  },
  "language_info": {
   "codemirror_mode": {
    "name": "ipython",
    "version": 3
   },
   "file_extension": ".py",
   "mimetype": "text/x-python",
   "name": "python",
   "nbconvert_exporter": "python",
   "pygments_lexer": "ipython3",
   "version": "3.7.3"
  }
 },
 "nbformat": 4,
 "nbformat_minor": 2
}
