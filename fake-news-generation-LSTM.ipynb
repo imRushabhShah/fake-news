{
 "cells": [
  {
   "cell_type": "markdown",
   "metadata": {},
   "source": [
    "## Convolutional DNN"
   ]
  },
  {
   "cell_type": "code",
   "execution_count": 1,
   "metadata": {},
   "outputs": [
    {
     "name": "stderr",
     "output_type": "stream",
     "text": [
      "[nltk_data] Downloading package punkt to /home/rushabh/nltk_data...\n",
      "[nltk_data]   Package punkt is already up-to-date!\n",
      "[nltk_data] Downloading package averaged_perceptron_tagger to\n",
      "[nltk_data]     /home/rushabh/nltk_data...\n",
      "[nltk_data]   Package averaged_perceptron_tagger is already up-to-\n",
      "[nltk_data]       date!\n",
      "[nltk_data] Downloading package wordnet to /home/rushabh/nltk_data...\n",
      "[nltk_data]   Package wordnet is already up-to-date!\n",
      "Using TensorFlow backend.\n"
     ]
    }
   ],
   "source": [
    "import numpy as np\n",
    "import pandas as pd\n",
    "%matplotlib inline\n",
    "import matplotlib.pyplot as plt\n",
    "from attack_utils import get_synonymes#, attack, predict_sentence\n",
    "import random\n",
    "import nltk\n",
    "import operator\n",
    "from tqdm import tqdm\n",
    "import keras\n",
    "from keras.preprocessing.text import Tokenizer\n",
    "from keras.preprocessing.sequence import pad_sequences\n",
    "from keras.utils import to_categorical\n",
    "from keras.layers import Input,LSTM,Embedding,Flatten,Dense\n",
    "from keras.layers import Dense, Input, CuDNNLSTM, Embedding, Dropout, Activation,TimeDistributed\n",
    "from keras.layers import Bidirectional, LSTM\n",
    "from keras.layers import Input, Embedding, Dense, Conv2D, MaxPool2D, concatenate,BatchNormalization,MaxPooling1D, Convolution1D\n",
    "from keras.layers import Reshape, Flatten, Concatenate, Dropout, SpatialDropout1D, RepeatVector, Permute, merge\n",
    "from keras import backend as K\n",
    "from keras import layers\n",
    "from keras.models import Sequential, Model"
   ]
  },
  {
   "cell_type": "code",
   "execution_count": 2,
   "metadata": {},
   "outputs": [],
   "source": [
    "MAX_SEQUENCE_LENGTH = 5000\n",
    "MAX_NUM_WORDS = 25000\n",
    "EMBEDDING_DIM = 300\n",
    "TEST_SPLIT = 0.2\n",
    "SAVE_MODEL_PATH = './save/model/'\n",
    "TEXT_DATA = 'data/fake_or_real_news.csv'\n",
    "EMBEDDING_FILE=f'glove.6B.{EMBEDDING_DIM}d.txt'"
   ]
  },
  {
   "cell_type": "code",
   "execution_count": 3,
   "metadata": {},
   "outputs": [],
   "source": [
    "# read in our data and preprocess it\n",
    "\n",
    "df = pd.read_csv(TEXT_DATA)\n",
    "df.drop(labels=['id','title'], axis='columns', inplace=True)\n",
    "# only select stories with lengths gt 0 -- there are some texts with len = 0\n",
    "mask = list(df['text'].apply(lambda x: len(x) > 0))\n",
    "df = df[mask]"
   ]
  },
  {
   "cell_type": "code",
   "execution_count": 4,
   "metadata": {},
   "outputs": [
    {
     "name": "stdout",
     "output_type": "stream",
     "text": [
      "Found 6335 texts.\n"
     ]
    }
   ],
   "source": [
    "# prepare text samples and their labels\n",
    "\n",
    "texts = df['text']\n",
    "labels = df['label']\n",
    "\n",
    "print('Found %s texts.' %texts.shape[0])"
   ]
  },
  {
   "cell_type": "code",
   "execution_count": null,
   "metadata": {},
   "outputs": [],
   "source": []
  },
  {
   "cell_type": "code",
   "execution_count": null,
   "metadata": {},
   "outputs": [],
   "source": []
  },
  {
   "cell_type": "code",
   "execution_count": 5,
   "metadata": {},
   "outputs": [
    {
     "name": "stdout",
     "output_type": "stream",
     "text": [
      "Found 98817 unique tokens.\n",
      "Shape of data tensor: (6335, 5000)\n",
      "Shape of label tensor: (6335,)\n"
     ]
    }
   ],
   "source": [
    "# vectorize the text samples into a 2D integer tensor \n",
    "\n",
    "tokenizer = Tokenizer(num_words=MAX_NUM_WORDS)\n",
    "tokenizer.fit_on_texts(texts)\n",
    "sequences = tokenizer.texts_to_sequences(texts)\n",
    "\n",
    "word_index = tokenizer.word_index\n",
    "num_words = min(MAX_NUM_WORDS, len(word_index)) + 1\n",
    "data = pad_sequences(sequences, \n",
    "                     maxlen=MAX_SEQUENCE_LENGTH, \n",
    "                     padding='pre', \n",
    "                     truncating='pre')\n",
    "\n",
    "print('Found %s unique tokens.' % len(word_index))\n",
    "print('Shape of data tensor:', data.shape)\n",
    "print('Shape of label tensor:', labels.shape)"
   ]
  },
  {
   "cell_type": "code",
   "execution_count": 6,
   "metadata": {},
   "outputs": [],
   "source": [
    "# split the data into a training set and a validation set   \n",
    "\n",
    "from sklearn.model_selection import train_test_split\n",
    "\n",
    "x_train, x_val, y_train, y_val = train_test_split(data, \n",
    "                                                  labels.apply(lambda x: 0 if x == 'FAKE' else 1), \n",
    "                                                  test_size=TEST_SPLIT)"
   ]
  },
  {
   "cell_type": "code",
   "execution_count": null,
   "metadata": {},
   "outputs": [],
   "source": []
  },
  {
   "cell_type": "code",
   "execution_count": null,
   "metadata": {},
   "outputs": [],
   "source": []
  },
  {
   "cell_type": "code",
   "execution_count": 8,
   "metadata": {},
   "outputs": [],
   "source": [
    "# Read the glove word vectors (space delimited strings) into a dictionary from word->vector.\n",
    "\n",
    "def get_coefs(word,*arr): return word, np.asarray(arr, dtype='float32')\n",
    "embeddings_index = dict(get_coefs(*o.strip().split()) for o in open(EMBEDDING_FILE, encoding=\"utf8\"))"
   ]
  },
  {
   "cell_type": "code",
   "execution_count": 9,
   "metadata": {},
   "outputs": [
    {
     "name": "stderr",
     "output_type": "stream",
     "text": [
      "/media/rushabh/B4A46314A462D87E/aml/venv/lib/python3.7/site-packages/IPython/core/interactiveshell.py:3249: FutureWarning: arrays to stack must be passed as a \"sequence\" type such as list or tuple. Support for non-sequence iterables such as generators is deprecated as of NumPy 1.16 and will raise an error in the future.\n",
      "  if (await self.run_code(code, result,  async_=asy)):\n"
     ]
    }
   ],
   "source": [
    "\n",
    "all_embs = np.stack(embeddings_index.values())\n",
    "emb_mean,emb_std = all_embs.mean(), all_embs.std()\n",
    "emb_mean,emb_std\n",
    "\n",
    "word_index = tokenizer.word_index\n",
    "nb_words = min(MAX_NUM_WORDS, len(word_index))\n",
    "embedding_matrix = np.random.normal(emb_mean, emb_std, (nb_words, EMBEDDING_DIM))\n",
    "for word, i in word_index.items():\n",
    "    if i >= MAX_NUM_WORDS: continue\n",
    "    embedding_vector = embeddings_index.get(word)\n",
    "    if embedding_vector is not None: embedding_matrix[i] = embedding_vector"
   ]
  },
  {
   "cell_type": "code",
   "execution_count": 10,
   "metadata": {},
   "outputs": [
    {
     "name": "stdout",
     "output_type": "stream",
     "text": [
      "model fitting - LSTM network\n",
      "Model: \"model_1\"\n",
      "_________________________________________________________________\n",
      "Layer (type)                 Output Shape              Param #   \n",
      "=================================================================\n",
      "input_1 (InputLayer)         (None, 5000)              0         \n",
      "_________________________________________________________________\n",
      "embedding_1 (Embedding)      (None, 5000, 300)         7500000   \n",
      "_________________________________________________________________\n",
      "lstm_1 (LSTM)                (None, 5000, 100)         160400    \n",
      "_________________________________________________________________\n",
      "flatten_1 (Flatten)          (None, 500000)            0         \n",
      "_________________________________________________________________\n",
      "dense_1 (Dense)              (None, 1)                 500001    \n",
      "=================================================================\n",
      "Total params: 8,160,401\n",
      "Trainable params: 660,401\n",
      "Non-trainable params: 7,500,000\n",
      "_________________________________________________________________\n"
     ]
    }
   ],
   "source": [
    "BATCH_SIZE = 128\n",
    "\n",
    "# convs = []\n",
    "# filter_sizes = [3,4,5]\n",
    "model=None\n",
    "sequence_input = Input(shape=(MAX_SEQUENCE_LENGTH,), dtype='int32')\n",
    "embedding_layer = Embedding(MAX_NUM_WORDS,\n",
    "                            EMBEDDING_DIM,\n",
    "                            weights=[embedding_matrix],\n",
    "                            input_length=MAX_SEQUENCE_LENGTH,\n",
    "                            trainable=False)\n",
    "\n",
    "\n",
    "embedded_sequences = embedding_layer(sequence_input)\n",
    "# l_lstm = Bidirectional(LSTM(100, return_sequences=True))(embedded_sequences)\n",
    "l_lstm = LSTM(100, return_sequences=True)(embedded_sequences)\n",
    "f = Flatten()(l_lstm)\n",
    "# preds = Dense(1, activation='softmax')(f)\n",
    "preds = Dense(1, activation='sigmoid')(f)\n",
    "# preds = TimeDistributed(2, Dense(200,activation='relu'))(l_gru)\n",
    "model = Model(sequence_input, preds)\n",
    "\n",
    "model.compile(loss='binary_crossentropy',\n",
    "              optimizer='rmsprop',\n",
    "              metrics=['acc'])\n",
    "\n",
    "print(\"model fitting - LSTM network\")\n",
    "# checkpointer = ModelCheckpoint(filepath=\"weights.hdf5\", verbose=1, save_best_only=True)\n",
    "model.summary()"
   ]
  },
  {
   "cell_type": "code",
   "execution_count": 11,
   "metadata": {},
   "outputs": [],
   "source": [
    "# define a function that allows us to evaluate our models\n",
    "\n",
    "from sklearn.metrics import accuracy_score\n",
    "\n",
    "def evaluate_model(predict_fun, X_train, y_train, X_test, y_test):\n",
    "    '''\n",
    "    evaluate the model, both training and testing errors are reported\n",
    "    '''\n",
    "    # training error\n",
    "    y_predict_train = predict_fun(X_train)\n",
    "    train_acc = accuracy_score(y_train,y_predict_train)\n",
    "    \n",
    "    # testing error\n",
    "    y_predict_test = predict_fun(X_test)\n",
    "    test_acc = accuracy_score(y_test,y_predict_test)\n",
    "    \n",
    "    return train_acc, test_acc"
   ]
  },
  {
   "cell_type": "code",
   "execution_count": 12,
   "metadata": {},
   "outputs": [],
   "source": [
    "# define a function that allows us to evaluate our models\n",
    "\n",
    "from sklearn.metrics import accuracy_score\n",
    "\n",
    "def evaluate_ourfakes(model, Fake_texts):\n",
    "    '''\n",
    "    evaluate the model, both training and testing errors are reported\n",
    "    '''\n",
    "    missclasified_fakes = []\n",
    "    correct_clasified_fakes = []\n",
    "    def predict(X):\n",
    "        return np.rint(model.predict(X))\n",
    "    # training error\n",
    "    y_predict = predict(Fake_texts)\n",
    "    y = np.zeros(len(y_predict))\n",
    "    for i in range(len(y_predict)):\n",
    "        missclasified_fakes.append(Fake_texts[i]) if y_predict[i] == 1 else correct_clasified_fakes.append(Fake_texts[i])\n",
    "    acc = accuracy_score(y,y_predict) #model.evaluate(Fake_texts,y)\n",
    "    return acc, missclasified_fakes, correct_clasified_fakes"
   ]
  },
  {
   "cell_type": "code",
   "execution_count": 13,
   "metadata": {},
   "outputs": [],
   "source": [
    "model.load_weights(SAVE_MODEL_PATH+'glove_LSTM_model.h5') # replace X with the last saved checkpoint number\n"
   ]
  },
  {
   "cell_type": "code",
   "execution_count": 14,
   "metadata": {},
   "outputs": [],
   "source": [
    "def predict_sentence(model,sent):\n",
    "    try_vector = tokenizer.texts_to_sequences([sent])\n",
    "    try_vector = pad_sequences([try_vector[0]], \n",
    "                     maxlen=MAX_SEQUENCE_LENGTH, \n",
    "                     padding='pre', \n",
    "                     truncating='pre')\n",
    "    val = model.predict(try_vector)\n",
    "    return val\n"
   ]
  },
  {
   "cell_type": "code",
   "execution_count": null,
   "metadata": {},
   "outputs": [],
   "source": []
  },
  {
   "cell_type": "code",
   "execution_count": 15,
   "metadata": {},
   "outputs": [],
   "source": [
    "faker = list(df['label'].apply(lambda x: x == 'FAKE'))\n",
    "fakes = df[faker]\n",
    "fake_texts = fakes['text']\n",
    "# fake_labels = fakes['label']"
   ]
  },
  {
   "cell_type": "code",
   "execution_count": 16,
   "metadata": {},
   "outputs": [],
   "source": [
    "fake_text_vectors = tokenizer.texts_to_sequences(fake_texts)\n",
    "fake_text_vectors = pad_sequences(fake_text_vectors, \n",
    "                     maxlen=MAX_SEQUENCE_LENGTH, \n",
    "                     padding='pre', \n",
    "                     truncating='pre')"
   ]
  },
  {
   "cell_type": "code",
   "execution_count": null,
   "metadata": {},
   "outputs": [],
   "source": []
  },
  {
   "cell_type": "code",
   "execution_count": 17,
   "metadata": {},
   "outputs": [],
   "source": [
    "acc, missclasified_fakes, correct_clasified_fakes = evaluate_ourfakes(model, fake_text_vectors)"
   ]
  },
  {
   "cell_type": "code",
   "execution_count": null,
   "metadata": {},
   "outputs": [],
   "source": []
  },
  {
   "cell_type": "code",
   "execution_count": null,
   "metadata": {},
   "outputs": [],
   "source": []
  },
  {
   "cell_type": "code",
   "execution_count": 18,
   "metadata": {},
   "outputs": [
    {
     "name": "stdout",
     "output_type": "stream",
     "text": [
      "total missclassified fakes 120 total correctly classified fakes 3044\n"
     ]
    }
   ],
   "source": [
    "print(\"total missclassified fakes\",len(missclasified_fakes),\"total correctly classified fakes\",len(correct_clasified_fakes))"
   ]
  },
  {
   "cell_type": "code",
   "execution_count": 19,
   "metadata": {},
   "outputs": [],
   "source": [
    "correct_fakes =tokenizer.sequences_to_texts(correct_clasified_fakes)"
   ]
  },
  {
   "cell_type": "code",
   "execution_count": 20,
   "metadata": {},
   "outputs": [],
   "source": [
    "# with open(f'CNN1d_correct_fakes.txt','w', encoding=\"utf-8\") as f:\n",
    "#     f.writelines(correct_fakes)"
   ]
  },
  {
   "cell_type": "code",
   "execution_count": null,
   "metadata": {},
   "outputs": [],
   "source": []
  },
  {
   "cell_type": "code",
   "execution_count": null,
   "metadata": {},
   "outputs": [],
   "source": []
  },
  {
   "cell_type": "code",
   "execution_count": 21,
   "metadata": {},
   "outputs": [],
   "source": [
    "# with open(f'CNN1d_correct_fakes.txt','r', encoding=\"utf-8\") as f:\n",
    "#     correct_fakes = f.readlines()"
   ]
  },
  {
   "cell_type": "code",
   "execution_count": 26,
   "metadata": {},
   "outputs": [],
   "source": [
    "def attack(dummy,pertub=1, printSwaps = False):    \n",
    "    dummy_temp = nltk.word_tokenize(dummy[:MAX_SEQUENCE_LENGTH])\n",
    "    done = False\n",
    "    unsuccessfullSwaps = 0\n",
    "    for i in range(int(len(dummy_temp)*pertub)):\n",
    "        if done:\n",
    "            break\n",
    "        itter = 0\n",
    "        while itter<10000:\n",
    "            itter+=1\n",
    "            v = random.randint(0,len(dummy_temp)-1)\n",
    "            syns,_ = get_synonymes(dummy_temp[v])\n",
    "            if len(syns)>0:\n",
    "                break\n",
    "        if itter == 10000:\n",
    "            print(\"didnt catch any synonymes\")\n",
    "            continue\n",
    "        candidates = {}\n",
    "        # candidate is a scored candidate dictionary storing all the \n",
    "        # synonymes with prediction Score\n",
    "        word = dummy_temp[v]\n",
    "        sent = \" \".join(dummy_temp)\n",
    "        candidates[word]=predict_sentence(model,sent)\n",
    "        for s in syns:\n",
    "            dummy_temp[v] = s\n",
    "            sent = (\" \".join(dummy_temp))\n",
    "            val = predict_sentence(model,sent)\n",
    "            candidates[s] = val\n",
    "            if val>=0.5:\n",
    "#                 print(\"got changes in \",i,val)\n",
    "                done = True\n",
    "                break\n",
    "    #         best_candidate = max(candidates.iteritems(), key=operator.itemgetter(1))[0]\n",
    "        best_candidate = max(candidates, key=candidates.get)\n",
    "        if word == best_candidate:\n",
    "            unsuccessfullSwaps+=1\n",
    "#             if printSwaps:\n",
    "#                 print(\"did not swap\")\n",
    "#         else:\n",
    "#             if printSwaps:\n",
    "#             print(word,best_candidate)\n",
    "        dummy_temp[v] = best_candidate\n",
    "    if not done:\n",
    "#         print(\"sorry\")\n",
    "        return 0,None\n",
    "    print(\"swaps done \",i+1-unsuccessfullSwaps,\"total words\",len(dummy_temp),\"unsucessfull swaps try\",unsuccessfullSwaps)\n",
    "    return i+1-unsuccessfullSwaps,\" \".join(dummy_temp)"
   ]
  },
  {
   "cell_type": "code",
   "execution_count": 27,
   "metadata": {
    "scrolled": true
   },
   "outputs": [
    {
     "name": "stderr",
     "output_type": "stream",
     "text": [
      "\n",
      "\n",
      "  0%|          | 0/200 [00:00<?, ?it/s]\u001b[A\u001b[A\n",
      "\n",
      "  0%|          | 1/200 [02:29<8:14:32, 149.11s/it]\u001b[A\u001b[A"
     ]
    },
    {
     "name": "stdout",
     "output_type": "stream",
     "text": [
      "swaps done  27 total words 926 unsucessfull swaps try 4\n"
     ]
    },
    {
     "name": "stderr",
     "output_type": "stream",
     "text": [
      "\n",
      "\n",
      "  1%|          | 2/200 [10:33<13:43:29, 249.54s/it]\u001b[A\u001b[A"
     ]
    },
    {
     "name": "stdout",
     "output_type": "stream",
     "text": [
      "swaps done  57 total words 455 unsucessfull swaps try 31\n"
     ]
    },
    {
     "name": "stderr",
     "output_type": "stream",
     "text": [
      "\n",
      "\n",
      "  2%|▏         | 3/200 [10:34<9:34:40, 175.03s/it] \u001b[A\u001b[A"
     ]
    },
    {
     "name": "stdout",
     "output_type": "stream",
     "text": [
      "swaps done  2 total words 427 unsucessfull swaps try 0\n"
     ]
    },
    {
     "name": "stderr",
     "output_type": "stream",
     "text": [
      "\n",
      "\n",
      "  2%|▏         | 4/200 [12:46<8:50:10, 162.30s/it]\u001b[A\u001b[A"
     ]
    },
    {
     "name": "stdout",
     "output_type": "stream",
     "text": [
      "swaps done  24 total words 947 unsucessfull swaps try 7\n"
     ]
    },
    {
     "name": "stderr",
     "output_type": "stream",
     "text": [
      "\n",
      "\n",
      "  2%|▎         | 5/200 [22:42<15:49:46, 292.24s/it]\u001b[A\u001b[A"
     ]
    },
    {
     "name": "stdout",
     "output_type": "stream",
     "text": [
      "swaps done  76 total words 563 unsucessfull swaps try 36\n"
     ]
    },
    {
     "name": "stderr",
     "output_type": "stream",
     "text": [
      "\n",
      "\n",
      "  3%|▎         | 6/200 [33:37<21:36:49, 401.08s/it]\u001b[A\u001b[A"
     ]
    },
    {
     "name": "stdout",
     "output_type": "stream",
     "text": [
      "swaps done  93 total words 222 unsucessfull swaps try 54\n"
     ]
    },
    {
     "name": "stderr",
     "output_type": "stream",
     "text": [
      "\n",
      "\n",
      "  4%|▎         | 7/200 [33:44<15:09:55, 282.88s/it]\u001b[A\u001b[A"
     ]
    },
    {
     "name": "stdout",
     "output_type": "stream",
     "text": [
      "swaps done  4 total words 55 unsucessfull swaps try 0\n"
     ]
    },
    {
     "name": "stderr",
     "output_type": "stream",
     "text": [
      "\n",
      "\n",
      "  4%|▍         | 8/200 [38:00<14:39:32, 274.86s/it]\u001b[A\u001b[A"
     ]
    },
    {
     "name": "stdout",
     "output_type": "stream",
     "text": [
      "swaps done  43 total words 145 unsucessfull swaps try 13\n"
     ]
    },
    {
     "name": "stderr",
     "output_type": "stream",
     "text": [
      "\n",
      "\n",
      "  4%|▍         | 9/200 [51:29<23:05:31, 435.24s/it]\u001b[A\u001b[A"
     ]
    },
    {
     "name": "stdout",
     "output_type": "stream",
     "text": [
      "swaps done  99 total words 287 unsucessfull swaps try 62\n"
     ]
    },
    {
     "name": "stderr",
     "output_type": "stream",
     "text": [
      "\n",
      "\n",
      "  5%|▌         | 10/200 [57:47<22:03:25, 417.92s/it]\u001b[A\u001b[A"
     ]
    },
    {
     "name": "stdout",
     "output_type": "stream",
     "text": [
      "swaps done  61 total words 196 unsucessfull swaps try 26\n"
     ]
    },
    {
     "name": "stderr",
     "output_type": "stream",
     "text": [
      "\n",
      "\n",
      "  6%|▌         | 11/200 [58:31<16:03:22, 305.83s/it]\u001b[A\u001b[A"
     ]
    },
    {
     "name": "stdout",
     "output_type": "stream",
     "text": [
      "swaps done  12 total words 813 unsucessfull swaps try 3\n"
     ]
    },
    {
     "name": "stderr",
     "output_type": "stream",
     "text": [
      "\n",
      "\n",
      "  6%|▌         | 12/200 [1:04:17<16:35:37, 317.75s/it]\u001b[A\u001b[A"
     ]
    },
    {
     "name": "stdout",
     "output_type": "stream",
     "text": [
      "swaps done  59 total words 713 unsucessfull swaps try 21\n"
     ]
    },
    {
     "name": "stderr",
     "output_type": "stream",
     "text": [
      "\n",
      "\n",
      "  6%|▋         | 13/200 [1:20:46<26:58:22, 519.26s/it]\u001b[A\u001b[A"
     ]
    },
    {
     "name": "stdout",
     "output_type": "stream",
     "text": [
      "swaps done  137 total words 514 unsucessfull swaps try 67\n"
     ]
    },
    {
     "name": "stderr",
     "output_type": "stream",
     "text": [
      "\n",
      "\n",
      "  7%|▋         | 14/200 [1:36:13<33:08:48, 641.55s/it]\u001b[A\u001b[A"
     ]
    },
    {
     "name": "stdout",
     "output_type": "stream",
     "text": [
      "swaps done  111 total words 753 unsucessfull swaps try 55\n"
     ]
    },
    {
     "name": "stderr",
     "output_type": "stream",
     "text": [
      "\n",
      "\n",
      "  8%|▊         | 15/200 [1:40:41<27:12:31, 529.47s/it]\u001b[A\u001b[A"
     ]
    },
    {
     "name": "stdout",
     "output_type": "stream",
     "text": [
      "swaps done  40 total words 315 unsucessfull swaps try 16\n"
     ]
    },
    {
     "name": "stderr",
     "output_type": "stream",
     "text": [
      "\n",
      "\n",
      "  8%|▊         | 16/200 [1:51:40<29:02:43, 568.28s/it]\u001b[A\u001b[A"
     ]
    },
    {
     "name": "stdout",
     "output_type": "stream",
     "text": [
      "swaps done  95 total words 1008 unsucessfull swaps try 39\n"
     ]
    },
    {
     "name": "stderr",
     "output_type": "stream",
     "text": [
      "\n",
      "\n",
      "  8%|▊         | 17/200 [1:55:12<23:27:34, 461.50s/it]\u001b[A\u001b[A"
     ]
    },
    {
     "name": "stdout",
     "output_type": "stream",
     "text": [
      "swaps done  30 total words 362 unsucessfull swaps try 15\n"
     ]
    },
    {
     "name": "stderr",
     "output_type": "stream",
     "text": [
      "\n",
      "\n",
      "  9%|▉         | 18/200 [1:58:08<18:59:59, 375.82s/it]\u001b[A\u001b[A"
     ]
    },
    {
     "name": "stdout",
     "output_type": "stream",
     "text": [
      "swaps done  27 total words 344 unsucessfull swaps try 9\n"
     ]
    },
    {
     "name": "stderr",
     "output_type": "stream",
     "text": [
      "\n",
      "\n",
      " 10%|▉         | 19/200 [2:04:52<19:19:23, 384.33s/it]\u001b[A\u001b[A"
     ]
    },
    {
     "name": "stdout",
     "output_type": "stream",
     "text": [
      "swaps done  64 total words 258 unsucessfull swaps try 39\n"
     ]
    },
    {
     "name": "stderr",
     "output_type": "stream",
     "text": [
      "\n",
      "\n",
      " 10%|█         | 20/200 [2:07:13<15:33:36, 311.20s/it]\u001b[A\u001b[A"
     ]
    },
    {
     "name": "stdout",
     "output_type": "stream",
     "text": [
      "swaps done  24 total words 241 unsucessfull swaps try 13\n"
     ]
    },
    {
     "name": "stderr",
     "output_type": "stream",
     "text": [
      "\n",
      "\n",
      " 10%|█         | 21/200 [2:11:04<14:16:49, 287.20s/it]\u001b[A\u001b[A"
     ]
    },
    {
     "name": "stdout",
     "output_type": "stream",
     "text": [
      "swaps done  38 total words 515 unsucessfull swaps try 14\n"
     ]
    },
    {
     "name": "stderr",
     "output_type": "stream",
     "text": [
      "\n",
      "\n",
      " 11%|█         | 22/200 [2:12:51<11:31:58, 233.25s/it]\u001b[A\u001b[A"
     ]
    },
    {
     "name": "stdout",
     "output_type": "stream",
     "text": [
      "swaps done  20 total words 58 unsucessfull swaps try 3\n"
     ]
    },
    {
     "name": "stderr",
     "output_type": "stream",
     "text": [
      "\n",
      "\n",
      " 12%|█▏        | 23/200 [2:23:13<17:11:45, 349.75s/it]\u001b[A\u001b[A"
     ]
    },
    {
     "name": "stdout",
     "output_type": "stream",
     "text": [
      "swaps done  82 total words 303 unsucessfull swaps try 39\n"
     ]
    },
    {
     "name": "stderr",
     "output_type": "stream",
     "text": [
      "\n",
      "\n",
      " 12%|█▏        | 24/200 [2:30:51<18:40:47, 382.09s/it]\u001b[A\u001b[A"
     ]
    },
    {
     "name": "stdout",
     "output_type": "stream",
     "text": [
      "swaps done  74 total words 525 unsucessfull swaps try 30\n"
     ]
    },
    {
     "name": "stderr",
     "output_type": "stream",
     "text": [
      "\n",
      "\n",
      " 12%|█▎        | 25/200 [2:36:32<17:58:53, 369.91s/it]\u001b[A\u001b[A"
     ]
    },
    {
     "name": "stdout",
     "output_type": "stream",
     "text": [
      "swaps done  49 total words 190 unsucessfull swaps try 20\n"
     ]
    },
    {
     "name": "stderr",
     "output_type": "stream",
     "text": [
      "\n",
      "\n",
      " 13%|█▎        | 26/200 [2:46:27<21:08:40, 437.47s/it]\u001b[A\u001b[A"
     ]
    },
    {
     "name": "stdout",
     "output_type": "stream",
     "text": [
      "swaps done  72 total words 198 unsucessfull swaps try 36\n"
     ]
    },
    {
     "name": "stderr",
     "output_type": "stream",
     "text": [
      "\n",
      "\n",
      " 14%|█▎        | 27/200 [2:47:49<15:53:31, 330.70s/it]\u001b[A\u001b[A"
     ]
    },
    {
     "name": "stdout",
     "output_type": "stream",
     "text": [
      "swaps done  15 total words 31 unsucessfull swaps try 5\n"
     ]
    },
    {
     "name": "stderr",
     "output_type": "stream",
     "text": [
      "\n",
      "\n",
      " 14%|█▍        | 28/200 [2:49:00<12:04:28, 252.72s/it]\u001b[A\u001b[A"
     ]
    },
    {
     "name": "stdout",
     "output_type": "stream",
     "text": [
      "swaps done  12 total words 34 unsucessfull swaps try 7\n"
     ]
    },
    {
     "name": "stderr",
     "output_type": "stream",
     "text": [
      "\n",
      "\n",
      " 14%|█▍        | 29/200 [3:04:12<21:23:58, 450.52s/it]\u001b[A\u001b[A"
     ]
    },
    {
     "name": "stdout",
     "output_type": "stream",
     "text": [
      "swaps done  124 total words 368 unsucessfull swaps try 34\n"
     ]
    },
    {
     "name": "stderr",
     "output_type": "stream",
     "text": [
      "\n",
      "\n",
      " 15%|█▌        | 30/200 [3:07:50<17:59:34, 381.03s/it]\u001b[A\u001b[A"
     ]
    },
    {
     "name": "stdout",
     "output_type": "stream",
     "text": [
      "swaps done  42 total words 847 unsucessfull swaps try 12\n"
     ]
    },
    {
     "name": "stderr",
     "output_type": "stream",
     "text": [
      "\n",
      "\n",
      " 16%|█▌        | 31/200 [3:08:31<13:05:22, 278.83s/it]\u001b[A\u001b[A"
     ]
    },
    {
     "name": "stdout",
     "output_type": "stream",
     "text": [
      "swaps done  10 total words 32 unsucessfull swaps try 2\n"
     ]
    },
    {
     "name": "stderr",
     "output_type": "stream",
     "text": [
      "\n",
      "\n",
      " 16%|█▌        | 32/200 [3:18:12<17:14:53, 369.61s/it]\u001b[A\u001b[A"
     ]
    },
    {
     "name": "stdout",
     "output_type": "stream",
     "text": [
      "swaps done  70 total words 199 unsucessfull swaps try 52\n"
     ]
    },
    {
     "name": "stderr",
     "output_type": "stream",
     "text": [
      "\n",
      "\n",
      " 16%|█▋        | 33/200 [3:26:09<18:38:18, 401.79s/it]\u001b[A\u001b[A"
     ]
    },
    {
     "name": "stdout",
     "output_type": "stream",
     "text": [
      "swaps done  77 total words 455 unsucessfull swaps try 26\n"
     ]
    },
    {
     "name": "stderr",
     "output_type": "stream",
     "text": [
      "\n",
      "\n",
      " 17%|█▋        | 34/200 [3:33:18<18:53:40, 409.76s/it]\u001b[A\u001b[A"
     ]
    },
    {
     "name": "stdout",
     "output_type": "stream",
     "text": [
      "swaps done  73 total words 353 unsucessfull swaps try 15\n"
     ]
    },
    {
     "name": "stderr",
     "output_type": "stream",
     "text": [
      "\n",
      "\n",
      " 18%|█▊        | 35/200 [3:38:12<17:12:03, 375.29s/it]\u001b[A\u001b[A"
     ]
    },
    {
     "name": "stdout",
     "output_type": "stream",
     "text": [
      "swaps done  56 total words 429 unsucessfull swaps try 8\n"
     ]
    },
    {
     "name": "stderr",
     "output_type": "stream",
     "text": [
      "\n",
      "\n",
      " 18%|█▊        | 36/200 [3:47:57<19:57:49, 438.23s/it]\u001b[A\u001b[A"
     ]
    },
    {
     "name": "stdout",
     "output_type": "stream",
     "text": [
      "swaps done  66 total words 205 unsucessfull swaps try 29\n"
     ]
    },
    {
     "name": "stderr",
     "output_type": "stream",
     "text": [
      "\n",
      "\n",
      " 18%|█▊        | 37/200 [3:48:51<14:36:46, 322.74s/it]\u001b[A\u001b[A"
     ]
    },
    {
     "name": "stdout",
     "output_type": "stream",
     "text": [
      "swaps done  9 total words 140 unsucessfull swaps try 6\n"
     ]
    },
    {
     "name": "stderr",
     "output_type": "stream",
     "text": [
      "\n",
      "\n",
      " 19%|█▉        | 38/200 [3:59:38<18:54:38, 420.24s/it]\u001b[A\u001b[A"
     ]
    },
    {
     "name": "stdout",
     "output_type": "stream",
     "text": [
      "swaps done  86 total words 219 unsucessfull swaps try 55\n"
     ]
    },
    {
     "name": "stderr",
     "output_type": "stream",
     "text": [
      "\n",
      "\n",
      " 20%|█▉        | 39/200 [4:09:24<21:00:34, 469.78s/it]\u001b[A\u001b[A"
     ]
    },
    {
     "name": "stdout",
     "output_type": "stream",
     "text": [
      "swaps done  72 total words 958 unsucessfull swaps try 43\n"
     ]
    },
    {
     "name": "stderr",
     "output_type": "stream",
     "text": [
      "\n",
      "\n",
      " 20%|██        | 40/200 [4:18:44<22:05:19, 497.00s/it]\u001b[A\u001b[A"
     ]
    },
    {
     "name": "stdout",
     "output_type": "stream",
     "text": [
      "swaps done  90 total words 298 unsucessfull swaps try 36\n"
     ]
    },
    {
     "name": "stderr",
     "output_type": "stream",
     "text": [
      "\n",
      "\n",
      " 20%|██        | 41/200 [4:23:20<19:01:21, 430.70s/it]\u001b[A\u001b[A"
     ]
    },
    {
     "name": "stdout",
     "output_type": "stream",
     "text": [
      "swaps done  32 total words 375 unsucessfull swaps try 20\n"
     ]
    },
    {
     "name": "stderr",
     "output_type": "stream",
     "text": [
      "\n",
      "\n",
      " 21%|██        | 42/200 [4:40:24<26:42:21, 608.49s/it]\u001b[A\u001b[A"
     ]
    },
    {
     "name": "stdout",
     "output_type": "stream",
     "text": [
      "swaps done  132 total words 507 unsucessfull swaps try 61\n"
     ]
    },
    {
     "name": "stderr",
     "output_type": "stream",
     "text": [
      "\n",
      "\n",
      " 22%|██▏       | 43/200 [4:40:25<18:35:25, 426.28s/it]\u001b[A\u001b[A"
     ]
    },
    {
     "name": "stdout",
     "output_type": "stream",
     "text": [
      "swaps done  2 total words 816 unsucessfull swaps try 0\n"
     ]
    },
    {
     "name": "stderr",
     "output_type": "stream",
     "text": [
      "\n",
      "\n",
      " 22%|██▏       | 44/200 [4:40:27<12:57:10, 298.91s/it]\u001b[A\u001b[A"
     ]
    },
    {
     "name": "stdout",
     "output_type": "stream",
     "text": [
      "swaps done  2 total words 29 unsucessfull swaps try 0\n"
     ]
    },
    {
     "name": "stderr",
     "output_type": "stream",
     "text": [
      "\n",
      "\n",
      " 23%|██▎       | 46/200 [4:52:01<13:24:20, 313.38s/it]\u001b[A\u001b[A"
     ]
    },
    {
     "name": "stdout",
     "output_type": "stream",
     "text": [
      "swaps done  106 total words 500 unsucessfull swaps try 44\n"
     ]
    },
    {
     "name": "stderr",
     "output_type": "stream",
     "text": [
      "\n",
      "\n",
      " 24%|██▎       | 47/200 [4:56:14<12:33:06, 295.34s/it]\u001b[A\u001b[A"
     ]
    },
    {
     "name": "stdout",
     "output_type": "stream",
     "text": [
      "swaps done  39 total words 560 unsucessfull swaps try 12\n"
     ]
    },
    {
     "name": "stderr",
     "output_type": "stream",
     "text": [
      "\n",
      "\n",
      " 24%|██▍       | 48/200 [5:02:03<13:09:08, 311.50s/it]\u001b[A\u001b[A"
     ]
    },
    {
     "name": "stdout",
     "output_type": "stream",
     "text": [
      "swaps done  47 total words 337 unsucessfull swaps try 19\n"
     ]
    },
    {
     "name": "stderr",
     "output_type": "stream",
     "text": [
      "\n",
      "\n",
      " 24%|██▍       | 49/200 [5:06:27<12:27:37, 297.07s/it]\u001b[A\u001b[A"
     ]
    },
    {
     "name": "stdout",
     "output_type": "stream",
     "text": [
      "swaps done  45 total words 494 unsucessfull swaps try 18\n"
     ]
    },
    {
     "name": "stderr",
     "output_type": "stream",
     "text": [
      "\n",
      "\n",
      " 25%|██▌       | 50/200 [5:09:51<11:13:10, 269.27s/it]\u001b[A\u001b[A"
     ]
    },
    {
     "name": "stdout",
     "output_type": "stream",
     "text": [
      "swaps done  32 total words 149 unsucessfull swaps try 15\n"
     ]
    },
    {
     "name": "stderr",
     "output_type": "stream",
     "text": [
      "\n",
      "\n",
      " 26%|██▌       | 51/200 [5:20:56<16:03:38, 388.04s/it]\u001b[A\u001b[A"
     ]
    },
    {
     "name": "stdout",
     "output_type": "stream",
     "text": [
      "swaps done  89 total words 534 unsucessfull swaps try 50\n"
     ]
    },
    {
     "name": "stderr",
     "output_type": "stream",
     "text": [
      "\n",
      "\n",
      " 26%|██▌       | 52/200 [5:22:06<12:01:20, 292.44s/it]\u001b[A\u001b[A"
     ]
    },
    {
     "name": "stdout",
     "output_type": "stream",
     "text": [
      "swaps done  15 total words 836 unsucessfull swaps try 10\n"
     ]
    },
    {
     "name": "stderr",
     "output_type": "stream",
     "text": [
      "\n",
      "\n",
      " 26%|██▋       | 53/200 [5:30:25<14:28:16, 354.40s/it]\u001b[A\u001b[A"
     ]
    },
    {
     "name": "stdout",
     "output_type": "stream",
     "text": [
      "swaps done  74 total words 275 unsucessfull swaps try 39\n"
     ]
    },
    {
     "name": "stderr",
     "output_type": "stream",
     "text": [
      "\n",
      "\n",
      " 27%|██▋       | 54/200 [5:35:52<14:02:53, 346.39s/it]\u001b[A\u001b[A"
     ]
    },
    {
     "name": "stdout",
     "output_type": "stream",
     "text": [
      "swaps done  50 total words 373 unsucessfull swaps try 25\n"
     ]
    },
    {
     "name": "stderr",
     "output_type": "stream",
     "text": [
      "\n",
      "\n",
      " 28%|██▊       | 55/200 [5:42:07<14:17:23, 354.78s/it]\u001b[A\u001b[A"
     ]
    },
    {
     "name": "stdout",
     "output_type": "stream",
     "text": [
      "swaps done  58 total words 244 unsucessfull swaps try 25\n"
     ]
    },
    {
     "name": "stderr",
     "output_type": "stream",
     "text": [
      "\n",
      "\n",
      " 28%|██▊       | 56/200 [5:42:08<9:56:49, 248.68s/it] \u001b[A\u001b[A"
     ]
    },
    {
     "name": "stdout",
     "output_type": "stream",
     "text": [
      "swaps done  1 total words 511 unsucessfull swaps try 1\n"
     ]
    },
    {
     "name": "stderr",
     "output_type": "stream",
     "text": [
      "\n",
      "\n",
      " 28%|██▊       | 57/200 [5:50:42<13:02:44, 328.42s/it]\u001b[A\u001b[A"
     ]
    },
    {
     "name": "stdout",
     "output_type": "stream",
     "text": [
      "swaps done  64 total words 546 unsucessfull swaps try 29\n"
     ]
    },
    {
     "name": "stderr",
     "output_type": "stream",
     "text": [
      "\n",
      "\n",
      " 29%|██▉       | 58/200 [5:52:22<10:14:48, 259.78s/it]\u001b[A\u001b[A"
     ]
    },
    {
     "name": "stdout",
     "output_type": "stream",
     "text": [
      "swaps done  19 total words 88 unsucessfull swaps try 10\n"
     ]
    },
    {
     "name": "stderr",
     "output_type": "stream",
     "text": [
      "\n",
      "\n",
      " 30%|██▉       | 59/200 [5:58:48<11:39:14, 297.55s/it]\u001b[A\u001b[A"
     ]
    },
    {
     "name": "stdout",
     "output_type": "stream",
     "text": [
      "swaps done  53 total words 219 unsucessfull swaps try 30\n"
     ]
    },
    {
     "name": "stderr",
     "output_type": "stream",
     "text": [
      "\n",
      "\n",
      " 30%|███       | 60/200 [5:58:49<8:06:46, 208.62s/it] \u001b[A\u001b[A"
     ]
    },
    {
     "name": "stdout",
     "output_type": "stream",
     "text": [
      "swaps done  2 total words 933 unsucessfull swaps try 0\n"
     ]
    },
    {
     "name": "stderr",
     "output_type": "stream",
     "text": [
      "\n",
      "\n",
      " 30%|███       | 61/200 [5:59:46<6:18:07, 163.22s/it]\u001b[A\u001b[A"
     ]
    },
    {
     "name": "stdout",
     "output_type": "stream",
     "text": [
      "swaps done  14 total words 918 unsucessfull swaps try 2\n"
     ]
    },
    {
     "name": "stderr",
     "output_type": "stream",
     "text": [
      "\n",
      "\n",
      " 31%|███       | 62/200 [6:06:00<8:41:00, 226.52s/it]\u001b[A\u001b[A"
     ]
    },
    {
     "name": "stdout",
     "output_type": "stream",
     "text": [
      "swaps done  53 total words 587 unsucessfull swaps try 25\n"
     ]
    },
    {
     "name": "stderr",
     "output_type": "stream",
     "text": [
      "\n",
      "\n",
      " 32%|███▏      | 63/200 [6:10:34<9:09:42, 240.75s/it]\u001b[A\u001b[A"
     ]
    },
    {
     "name": "stdout",
     "output_type": "stream",
     "text": [
      "swaps done  40 total words 284 unsucessfull swaps try 14\n"
     ]
    },
    {
     "name": "stderr",
     "output_type": "stream",
     "text": [
      "\n",
      "\n",
      " 32%|███▏      | 64/200 [6:14:17<8:53:45, 235.48s/it]\u001b[A\u001b[A"
     ]
    },
    {
     "name": "stdout",
     "output_type": "stream",
     "text": [
      "swaps done  31 total words 696 unsucessfull swaps try 8\n"
     ]
    },
    {
     "name": "stderr",
     "output_type": "stream",
     "text": [
      "\n",
      "\n",
      " 32%|███▎      | 65/200 [6:14:22<6:13:49, 166.15s/it]\u001b[A\u001b[A"
     ]
    },
    {
     "name": "stdout",
     "output_type": "stream",
     "text": [
      "swaps done  3 total words 18 unsucessfull swaps try 0\n"
     ]
    },
    {
     "name": "stderr",
     "output_type": "stream",
     "text": [
      "\n",
      "\n",
      " 33%|███▎      | 66/200 [6:27:35<13:11:12, 354.28s/it]\u001b[A\u001b[A"
     ]
    },
    {
     "name": "stdout",
     "output_type": "stream",
     "text": [
      "swaps done  122 total words 909 unsucessfull swaps try 32\n"
     ]
    },
    {
     "name": "stderr",
     "output_type": "stream",
     "text": [
      "\n",
      "\n",
      " 34%|███▎      | 67/200 [6:31:24<11:42:01, 316.70s/it]\u001b[A\u001b[A"
     ]
    },
    {
     "name": "stdout",
     "output_type": "stream",
     "text": [
      "swaps done  29 total words 240 unsucessfull swaps try 12\n"
     ]
    },
    {
     "name": "stderr",
     "output_type": "stream",
     "text": [
      "\n",
      "\n",
      " 34%|███▍      | 68/200 [6:31:25<8:08:27, 222.03s/it] \u001b[A\u001b[A"
     ]
    },
    {
     "name": "stdout",
     "output_type": "stream",
     "text": [
      "swaps done  2 total words 792 unsucessfull swaps try 0\n"
     ]
    },
    {
     "name": "stderr",
     "output_type": "stream",
     "text": [
      "\n",
      "\n",
      " 34%|███▍      | 69/200 [6:31:41<5:50:04, 160.34s/it]\u001b[A\u001b[A"
     ]
    },
    {
     "name": "stdout",
     "output_type": "stream",
     "text": [
      "swaps done  4 total words 968 unsucessfull swaps try 0\n"
     ]
    },
    {
     "name": "stderr",
     "output_type": "stream",
     "text": [
      "\n",
      "\n",
      " 35%|███▌      | 70/200 [6:33:06<4:58:04, 137.58s/it]\u001b[A\u001b[A"
     ]
    },
    {
     "name": "stdout",
     "output_type": "stream",
     "text": [
      "swaps done  16 total words 192 unsucessfull swaps try 12\n"
     ]
    },
    {
     "name": "stderr",
     "output_type": "stream",
     "text": [
      "\n",
      "\n",
      " 36%|███▌      | 71/200 [6:38:17<6:47:57, 189.75s/it]\u001b[A\u001b[A"
     ]
    },
    {
     "name": "stdout",
     "output_type": "stream",
     "text": [
      "swaps done  38 total words 266 unsucessfull swaps try 16\n"
     ]
    },
    {
     "name": "stderr",
     "output_type": "stream",
     "text": [
      "\n",
      "\n",
      " 36%|███▌      | 72/200 [6:43:22<7:58:33, 224.33s/it]\u001b[A\u001b[A"
     ]
    },
    {
     "name": "stdout",
     "output_type": "stream",
     "text": [
      "swaps done  47 total words 936 unsucessfull swaps try 12\n"
     ]
    },
    {
     "name": "stderr",
     "output_type": "stream",
     "text": [
      "\n",
      "\n",
      " 36%|███▋      | 73/200 [6:47:04<7:52:53, 223.42s/it]\u001b[A\u001b[A"
     ]
    },
    {
     "name": "stdout",
     "output_type": "stream",
     "text": [
      "swaps done  36 total words 112 unsucessfull swaps try 11\n"
     ]
    },
    {
     "name": "stderr",
     "output_type": "stream",
     "text": [
      "\n",
      "\n",
      " 37%|███▋      | 74/200 [6:54:37<10:13:56, 292.35s/it]\u001b[A\u001b[A"
     ]
    },
    {
     "name": "stdout",
     "output_type": "stream",
     "text": [
      "swaps done  59 total words 251 unsucessfull swaps try 30\n"
     ]
    },
    {
     "name": "stderr",
     "output_type": "stream",
     "text": [
      "\n",
      "\n",
      " 38%|███▊      | 75/200 [6:59:38<10:14:36, 295.01s/it]\u001b[A\u001b[A"
     ]
    },
    {
     "name": "stdout",
     "output_type": "stream",
     "text": [
      "swaps done  35 total words 880 unsucessfull swaps try 14\n"
     ]
    },
    {
     "name": "stderr",
     "output_type": "stream",
     "text": [
      "\n",
      "\n",
      " 38%|███▊      | 76/200 [7:02:25<8:50:20, 256.62s/it] \u001b[A\u001b[A"
     ]
    },
    {
     "name": "stdout",
     "output_type": "stream",
     "text": [
      "swaps done  28 total words 62 unsucessfull swaps try 9\n"
     ]
    },
    {
     "name": "stderr",
     "output_type": "stream",
     "text": [
      "\n",
      "\n",
      " 38%|███▊      | 77/200 [7:03:19<6:41:24, 195.81s/it]\u001b[A\u001b[A"
     ]
    },
    {
     "name": "stdout",
     "output_type": "stream",
     "text": [
      "swaps done  13 total words 634 unsucessfull swaps try 1\n"
     ]
    },
    {
     "name": "stderr",
     "output_type": "stream",
     "text": [
      "\n",
      "\n",
      " 39%|███▉      | 78/200 [7:16:12<12:29:58, 368.84s/it]\u001b[A\u001b[A"
     ]
    },
    {
     "name": "stdout",
     "output_type": "stream",
     "text": [
      "swaps done  103 total words 752 unsucessfull swaps try 34\n"
     ]
    },
    {
     "name": "stderr",
     "output_type": "stream",
     "text": [
      "\n",
      "\n",
      " 40%|███▉      | 79/200 [7:28:21<16:01:38, 476.84s/it]\u001b[A\u001b[A"
     ]
    },
    {
     "name": "stdout",
     "output_type": "stream",
     "text": [
      "swaps done  106 total words 880 unsucessfull swaps try 67\n"
     ]
    },
    {
     "name": "stderr",
     "output_type": "stream",
     "text": [
      "\n",
      "\n",
      " 40%|████      | 80/200 [7:34:33<14:50:57, 445.48s/it]\u001b[A\u001b[A"
     ]
    },
    {
     "name": "stdout",
     "output_type": "stream",
     "text": [
      "swaps done  51 total words 353 unsucessfull swaps try 19\n"
     ]
    },
    {
     "name": "stderr",
     "output_type": "stream",
     "text": [
      "\n",
      "\n",
      " 40%|████      | 81/200 [7:37:13<11:53:43, 359.86s/it]\u001b[A\u001b[A"
     ]
    },
    {
     "name": "stdout",
     "output_type": "stream",
     "text": [
      "swaps done  24 total words 73 unsucessfull swaps try 9\n"
     ]
    },
    {
     "name": "stderr",
     "output_type": "stream",
     "text": [
      "\n",
      "\n",
      " 41%|████      | 82/200 [7:43:41<12:04:33, 368.42s/it]\u001b[A\u001b[A"
     ]
    },
    {
     "name": "stdout",
     "output_type": "stream",
     "text": [
      "swaps done  52 total words 196 unsucessfull swaps try 18\n"
     ]
    },
    {
     "name": "stderr",
     "output_type": "stream",
     "text": [
      "\n",
      "\n",
      " 42%|████▏     | 83/200 [7:53:59<14:24:21, 443.26s/it]\u001b[A\u001b[A"
     ]
    },
    {
     "name": "stdout",
     "output_type": "stream",
     "text": [
      "swaps done  80 total words 574 unsucessfull swaps try 20\n"
     ]
    },
    {
     "name": "stderr",
     "output_type": "stream",
     "text": [
      "\n",
      "\n",
      " 42%|████▏     | 84/200 [8:02:26<14:53:39, 462.24s/it]\u001b[A\u001b[A"
     ]
    },
    {
     "name": "stdout",
     "output_type": "stream",
     "text": [
      "swaps done  78 total words 665 unsucessfull swaps try 41\n"
     ]
    },
    {
     "name": "stderr",
     "output_type": "stream",
     "text": [
      "\n",
      "\n",
      " 42%|████▎     | 85/200 [8:07:58<13:31:15, 423.27s/it]\u001b[A\u001b[A"
     ]
    },
    {
     "name": "stdout",
     "output_type": "stream",
     "text": [
      "swaps done  48 total words 921 unsucessfull swaps try 20\n"
     ]
    },
    {
     "name": "stderr",
     "output_type": "stream",
     "text": [
      "\n",
      "\n",
      " 43%|████▎     | 86/200 [8:18:18<15:16:29, 482.36s/it]\u001b[A\u001b[A"
     ]
    },
    {
     "name": "stdout",
     "output_type": "stream",
     "text": [
      "swaps done  83 total words 486 unsucessfull swaps try 33\n"
     ]
    },
    {
     "name": "stderr",
     "output_type": "stream",
     "text": [
      "\n",
      "\n",
      " 44%|████▎     | 87/200 [8:28:19<16:15:20, 517.88s/it]\u001b[A\u001b[A"
     ]
    },
    {
     "name": "stdout",
     "output_type": "stream",
     "text": [
      "swaps done  81 total words 384 unsucessfull swaps try 40\n"
     ]
    },
    {
     "name": "stderr",
     "output_type": "stream",
     "text": [
      "\n",
      "\n",
      " 44%|████▍     | 88/200 [8:38:39<17:03:43, 548.42s/it]\u001b[A\u001b[A"
     ]
    },
    {
     "name": "stdout",
     "output_type": "stream",
     "text": [
      "swaps done  86 total words 434 unsucessfull swaps try 43\n"
     ]
    },
    {
     "name": "stderr",
     "output_type": "stream",
     "text": [
      "\n",
      "\n",
      " 44%|████▍     | 89/200 [8:49:01<17:35:43, 570.66s/it]\u001b[A\u001b[A"
     ]
    },
    {
     "name": "stdout",
     "output_type": "stream",
     "text": [
      "swaps done  62 total words 248 unsucessfull swaps try 45\n"
     ]
    },
    {
     "name": "stderr",
     "output_type": "stream",
     "text": [
      "\n",
      "\n",
      " 45%|████▌     | 90/200 [9:03:45<20:18:15, 664.50s/it]\u001b[A\u001b[A"
     ]
    },
    {
     "name": "stdout",
     "output_type": "stream",
     "text": [
      "swaps done  116 total words 362 unsucessfull swaps try 48\n"
     ]
    },
    {
     "name": "stderr",
     "output_type": "stream",
     "text": [
      "\n",
      "\n",
      " 46%|████▌     | 91/200 [9:06:07<15:22:42, 507.91s/it]\u001b[A\u001b[A"
     ]
    },
    {
     "name": "stdout",
     "output_type": "stream",
     "text": [
      "swaps done  25 total words 125 unsucessfull swaps try 5\n"
     ]
    },
    {
     "name": "stderr",
     "output_type": "stream",
     "text": [
      "\n",
      "\n",
      " 46%|████▌     | 92/200 [9:11:27<13:32:39, 451.48s/it]\u001b[A\u001b[A"
     ]
    },
    {
     "name": "stdout",
     "output_type": "stream",
     "text": [
      "swaps done  44 total words 253 unsucessfull swaps try 14\n"
     ]
    },
    {
     "name": "stderr",
     "output_type": "stream",
     "text": [
      "\n",
      "\n",
      " 46%|████▋     | 93/200 [9:22:07<15:05:50, 507.95s/it]\u001b[A\u001b[A"
     ]
    },
    {
     "name": "stdout",
     "output_type": "stream",
     "text": [
      "swaps done  100 total words 848 unsucessfull swaps try 38\n"
     ]
    },
    {
     "name": "stderr",
     "output_type": "stream",
     "text": [
      "\n",
      "\n",
      " 47%|████▋     | 94/200 [9:23:15<11:04:27, 376.11s/it]\u001b[A\u001b[A"
     ]
    },
    {
     "name": "stdout",
     "output_type": "stream",
     "text": [
      "swaps done  14 total words 26 unsucessfull swaps try 2\n"
     ]
    },
    {
     "name": "stderr",
     "output_type": "stream",
     "text": [
      "\n",
      "\n",
      " 48%|████▊     | 95/200 [9:35:46<14:14:56, 488.54s/it]\u001b[A\u001b[A"
     ]
    },
    {
     "name": "stdout",
     "output_type": "stream",
     "text": [
      "swaps done  110 total words 904 unsucessfull swaps try 43\n"
     ]
    },
    {
     "name": "stderr",
     "output_type": "stream",
     "text": [
      "\n",
      "\n",
      " 48%|████▊     | 96/200 [9:41:28<12:50:19, 444.42s/it]\u001b[A\u001b[A"
     ]
    },
    {
     "name": "stdout",
     "output_type": "stream",
     "text": [
      "swaps done  37 total words 80 unsucessfull swaps try 31\n"
     ]
    },
    {
     "name": "stderr",
     "output_type": "stream",
     "text": [
      "\n",
      "\n",
      " 48%|████▊     | 97/200 [9:51:27<14:02:45, 490.93s/it]\u001b[A\u001b[A"
     ]
    },
    {
     "name": "stdout",
     "output_type": "stream",
     "text": [
      "swaps done  95 total words 499 unsucessfull swaps try 43\n"
     ]
    },
    {
     "name": "stderr",
     "output_type": "stream",
     "text": [
      "\n",
      "\n",
      " 49%|████▉     | 98/200 [9:57:45<12:57:04, 457.11s/it]\u001b[A\u001b[A"
     ]
    },
    {
     "name": "stdout",
     "output_type": "stream",
     "text": [
      "swaps done  60 total words 529 unsucessfull swaps try 25\n"
     ]
    },
    {
     "name": "stderr",
     "output_type": "stream",
     "text": [
      "\n",
      "\n",
      " 50%|████▉     | 99/200 [9:58:28<9:20:16, 332.83s/it] \u001b[A\u001b[A"
     ]
    },
    {
     "name": "stdout",
     "output_type": "stream",
     "text": [
      "swaps done  9 total words 922 unsucessfull swaps try 2\n"
     ]
    },
    {
     "name": "stderr",
     "output_type": "stream",
     "text": [
      "\n",
      "\n",
      " 50%|█████     | 100/200 [10:04:59<9:43:51, 350.31s/it]\u001b[A\u001b[A"
     ]
    },
    {
     "name": "stdout",
     "output_type": "stream",
     "text": [
      "swaps done  54 total words 650 unsucessfull swaps try 18\n"
     ]
    },
    {
     "name": "stderr",
     "output_type": "stream",
     "text": [
      "\n",
      "\n",
      " 50%|█████     | 101/200 [10:06:34<7:31:45, 273.79s/it]\u001b[A\u001b[A"
     ]
    },
    {
     "name": "stdout",
     "output_type": "stream",
     "text": [
      "swaps done  15 total words 757 unsucessfull swaps try 6\n"
     ]
    },
    {
     "name": "stderr",
     "output_type": "stream",
     "text": [
      "\n",
      "\n",
      " 51%|█████     | 102/200 [10:09:49<6:48:26, 250.07s/it]\u001b[A\u001b[A"
     ]
    },
    {
     "name": "stdout",
     "output_type": "stream",
     "text": [
      "swaps done  32 total words 213 unsucessfull swaps try 8\n"
     ]
    },
    {
     "name": "stderr",
     "output_type": "stream",
     "text": [
      "\n",
      "\n",
      " 52%|█████▏    | 103/200 [10:13:53<6:41:09, 248.14s/it]\u001b[A\u001b[A"
     ]
    },
    {
     "name": "stdout",
     "output_type": "stream",
     "text": [
      "swaps done  30 total words 45 unsucessfull swaps try 9\n"
     ]
    },
    {
     "name": "stderr",
     "output_type": "stream",
     "text": [
      "\n",
      "\n",
      " 52%|█████▏    | 104/200 [10:13:54<4:38:27, 174.03s/it]\u001b[A\u001b[A"
     ]
    },
    {
     "name": "stdout",
     "output_type": "stream",
     "text": [
      "swaps done  1 total words 831 unsucessfull swaps try 1\n"
     ]
    },
    {
     "name": "stderr",
     "output_type": "stream",
     "text": [
      "\n",
      "\n",
      " 52%|█████▎    | 105/200 [10:13:55<3:13:24, 122.16s/it]\u001b[A\u001b[A"
     ]
    },
    {
     "name": "stdout",
     "output_type": "stream",
     "text": [
      "swaps done  1 total words 822 unsucessfull swaps try 1\n"
     ]
    },
    {
     "name": "stderr",
     "output_type": "stream",
     "text": [
      "\n",
      "\n",
      " 53%|█████▎    | 106/200 [10:23:49<6:52:56, 263.58s/it]\u001b[A\u001b[A"
     ]
    },
    {
     "name": "stdout",
     "output_type": "stream",
     "text": [
      "swaps done  79 total words 437 unsucessfull swaps try 25\n"
     ]
    },
    {
     "name": "stderr",
     "output_type": "stream",
     "text": [
      "\n",
      "\n",
      " 54%|█████▎    | 107/200 [10:23:57<4:50:05, 187.16s/it]\u001b[A\u001b[A"
     ]
    },
    {
     "name": "stdout",
     "output_type": "stream",
     "text": [
      "swaps done  3 total words 128 unsucessfull swaps try 0\n"
     ]
    },
    {
     "name": "stderr",
     "output_type": "stream",
     "text": [
      "\n",
      "\n",
      " 54%|█████▍    | 108/200 [10:29:39<5:58:12, 233.61s/it]\u001b[A\u001b[A"
     ]
    },
    {
     "name": "stdout",
     "output_type": "stream",
     "text": [
      "swaps done  49 total words 339 unsucessfull swaps try 24\n"
     ]
    },
    {
     "name": "stderr",
     "output_type": "stream",
     "text": [
      "\n",
      "\n",
      " 55%|█████▍    | 109/200 [10:56:54<16:31:41, 653.87s/it]\u001b[A\u001b[A"
     ]
    },
    {
     "name": "stdout",
     "output_type": "stream",
     "text": [
      "swaps done  196 total words 767 unsucessfull swaps try 109\n"
     ]
    },
    {
     "name": "stderr",
     "output_type": "stream",
     "text": [
      "\n",
      "\n",
      " 55%|█████▌    | 110/200 [11:04:54<15:02:44, 601.83s/it]\u001b[A\u001b[A"
     ]
    },
    {
     "name": "stdout",
     "output_type": "stream",
     "text": [
      "swaps done  59 total words 307 unsucessfull swaps try 33\n"
     ]
    },
    {
     "name": "stderr",
     "output_type": "stream",
     "text": [
      "\n",
      "\n",
      " 56%|█████▌    | 111/200 [11:08:04<11:49:20, 478.21s/it]\u001b[A\u001b[A"
     ]
    },
    {
     "name": "stdout",
     "output_type": "stream",
     "text": [
      "swaps done  39 total words 264 unsucessfull swaps try 9\n"
     ]
    },
    {
     "name": "stderr",
     "output_type": "stream",
     "text": [
      "\n",
      "\n",
      " 56%|█████▌    | 112/200 [11:18:41<12:51:12, 525.83s/it]\u001b[A\u001b[A"
     ]
    },
    {
     "name": "stdout",
     "output_type": "stream",
     "text": [
      "swaps done  81 total words 911 unsucessfull swaps try 50\n"
     ]
    },
    {
     "name": "stderr",
     "output_type": "stream",
     "text": [
      "\n",
      "\n",
      " 56%|█████▋    | 113/200 [11:19:00<9:02:00, 373.80s/it] \u001b[A\u001b[A"
     ]
    },
    {
     "name": "stdout",
     "output_type": "stream",
     "text": [
      "swaps done  5 total words 10 unsucessfull swaps try 0\n"
     ]
    },
    {
     "name": "stderr",
     "output_type": "stream",
     "text": [
      "\n",
      "\n",
      " 57%|█████▋    | 114/200 [11:19:03<6:16:28, 262.65s/it]\u001b[A\u001b[A"
     ]
    },
    {
     "name": "stdout",
     "output_type": "stream",
     "text": [
      "swaps done  2 total words 867 unsucessfull swaps try 0\n"
     ]
    },
    {
     "name": "stderr",
     "output_type": "stream",
     "text": [
      "\n",
      "\n",
      " 57%|█████▊    | 115/200 [11:19:52<4:41:15, 198.54s/it]\u001b[A\u001b[A"
     ]
    },
    {
     "name": "stdout",
     "output_type": "stream",
     "text": [
      "swaps done  10 total words 32 unsucessfull swaps try 2\n"
     ]
    },
    {
     "name": "stderr",
     "output_type": "stream",
     "text": [
      "\n",
      "\n",
      " 58%|█████▊    | 116/200 [11:24:11<5:03:11, 216.57s/it]\u001b[A\u001b[A"
     ]
    },
    {
     "name": "stdout",
     "output_type": "stream",
     "text": [
      "swaps done  40 total words 619 unsucessfull swaps try 15\n"
     ]
    },
    {
     "name": "stderr",
     "output_type": "stream",
     "text": [
      "\n",
      "\n",
      " 58%|█████▊    | 117/200 [11:26:42<4:32:31, 197.01s/it]\u001b[A\u001b[A"
     ]
    },
    {
     "name": "stdout",
     "output_type": "stream",
     "text": [
      "swaps done  30 total words 885 unsucessfull swaps try 5\n"
     ]
    },
    {
     "name": "stderr",
     "output_type": "stream",
     "text": [
      "\n",
      "\n",
      " 59%|█████▉    | 118/200 [11:28:04<3:42:04, 162.50s/it]\u001b[A\u001b[A"
     ]
    },
    {
     "name": "stdout",
     "output_type": "stream",
     "text": [
      "swaps done  18 total words 875 unsucessfull swaps try 2\n"
     ]
    },
    {
     "name": "stderr",
     "output_type": "stream",
     "text": [
      "\n",
      "\n",
      " 60%|█████▉    | 119/200 [11:42:22<8:21:03, 371.16s/it]\u001b[A\u001b[A"
     ]
    },
    {
     "name": "stdout",
     "output_type": "stream",
     "text": [
      "swaps done  126 total words 888 unsucessfull swaps try 53\n"
     ]
    },
    {
     "name": "stderr",
     "output_type": "stream",
     "text": [
      "\n",
      "\n",
      " 60%|██████    | 120/200 [11:47:04<7:39:14, 344.43s/it]\u001b[A\u001b[A"
     ]
    },
    {
     "name": "stdout",
     "output_type": "stream",
     "text": [
      "swaps done  43 total words 957 unsucessfull swaps try 15\n"
     ]
    },
    {
     "name": "stderr",
     "output_type": "stream",
     "text": [
      "\n",
      "\n",
      " 60%|██████    | 121/200 [11:48:04<5:41:00, 258.99s/it]\u001b[A\u001b[A"
     ]
    },
    {
     "name": "stdout",
     "output_type": "stream",
     "text": [
      "swaps done  12 total words 884 unsucessfull swaps try 3\n"
     ]
    },
    {
     "name": "stderr",
     "output_type": "stream",
     "text": [
      "\n",
      "\n",
      " 61%|██████    | 122/200 [11:52:19<5:35:00, 257.69s/it]\u001b[A\u001b[A"
     ]
    },
    {
     "name": "stdout",
     "output_type": "stream",
     "text": [
      "swaps done  42 total words 441 unsucessfull swaps try 22\n"
     ]
    },
    {
     "name": "stderr",
     "output_type": "stream",
     "text": [
      "\n",
      "\n",
      " 62%|██████▏   | 123/200 [12:00:48<7:07:29, 333.10s/it]\u001b[A\u001b[A"
     ]
    },
    {
     "name": "stdout",
     "output_type": "stream",
     "text": [
      "swaps done  72 total words 304 unsucessfull swaps try 47\n"
     ]
    },
    {
     "name": "stderr",
     "output_type": "stream",
     "text": [
      "\n",
      "\n",
      " 62%|██████▏   | 124/200 [12:01:59<5:22:16, 254.42s/it]\u001b[A\u001b[A"
     ]
    },
    {
     "name": "stdout",
     "output_type": "stream",
     "text": [
      "swaps done  11 total words 50 unsucessfull swaps try 6\n"
     ]
    },
    {
     "name": "stderr",
     "output_type": "stream",
     "text": [
      "\n",
      "\n",
      " 62%|██████▎   | 125/200 [12:06:55<5:33:41, 266.96s/it]\u001b[A\u001b[A"
     ]
    },
    {
     "name": "stdout",
     "output_type": "stream",
     "text": [
      "swaps done  45 total words 449 unsucessfull swaps try 21\n"
     ]
    },
    {
     "name": "stderr",
     "output_type": "stream",
     "text": [
      "\n",
      "\n",
      " 63%|██████▎   | 126/200 [12:14:37<6:41:29, 325.54s/it]\u001b[A\u001b[A"
     ]
    },
    {
     "name": "stdout",
     "output_type": "stream",
     "text": [
      "swaps done  51 total words 230 unsucessfull swaps try 36\n"
     ]
    },
    {
     "name": "stderr",
     "output_type": "stream",
     "text": [
      "\n",
      "\n",
      " 64%|██████▎   | 127/200 [12:23:53<7:59:59, 394.52s/it]\u001b[A\u001b[A"
     ]
    },
    {
     "name": "stdout",
     "output_type": "stream",
     "text": [
      "swaps done  76 total words 234 unsucessfull swaps try 50\n"
     ]
    },
    {
     "name": "stderr",
     "output_type": "stream",
     "text": [
      "\n",
      "\n",
      " 64%|██████▍   | 128/200 [12:23:54<5:31:47, 276.50s/it]\u001b[A\u001b[A"
     ]
    },
    {
     "name": "stdout",
     "output_type": "stream",
     "text": [
      "swaps done  2 total words 923 unsucessfull swaps try 0\n"
     ]
    },
    {
     "name": "stderr",
     "output_type": "stream",
     "text": [
      "\n",
      "\n",
      " 64%|██████▍   | 129/200 [12:32:21<6:49:11, 345.79s/it]\u001b[A\u001b[A"
     ]
    },
    {
     "name": "stdout",
     "output_type": "stream",
     "text": [
      "swaps done  75 total words 382 unsucessfull swaps try 35\n"
     ]
    },
    {
     "name": "stderr",
     "output_type": "stream",
     "text": [
      "\n",
      "\n",
      " 65%|██████▌   | 130/200 [12:33:37<5:08:51, 264.73s/it]\u001b[A\u001b[A"
     ]
    },
    {
     "name": "stdout",
     "output_type": "stream",
     "text": [
      "swaps done  14 total words 32 unsucessfull swaps try 8\n"
     ]
    },
    {
     "name": "stderr",
     "output_type": "stream",
     "text": [
      "\n",
      "\n",
      " 66%|██████▌   | 131/200 [12:34:10<3:44:38, 195.34s/it]\u001b[A\u001b[A"
     ]
    },
    {
     "name": "stdout",
     "output_type": "stream",
     "text": [
      "swaps done  7 total words 889 unsucessfull swaps try 2\n"
     ]
    },
    {
     "name": "stderr",
     "output_type": "stream",
     "text": [
      "\n",
      "\n",
      " 66%|██████▌   | 132/200 [12:40:10<4:37:11, 244.58s/it]\u001b[A\u001b[A"
     ]
    },
    {
     "name": "stdout",
     "output_type": "stream",
     "text": [
      "swaps done  54 total words 698 unsucessfull swaps try 13\n"
     ]
    },
    {
     "name": "stderr",
     "output_type": "stream",
     "text": [
      "\n",
      "\n",
      " 66%|██████▋   | 133/200 [12:40:11<3:11:33, 171.55s/it]\u001b[A\u001b[A"
     ]
    },
    {
     "name": "stdout",
     "output_type": "stream",
     "text": [
      "swaps done  1 total words 951 unsucessfull swaps try 1\n"
     ]
    },
    {
     "name": "stderr",
     "output_type": "stream",
     "text": [
      "\n",
      "\n",
      " 67%|██████▋   | 134/200 [12:47:02<4:27:56, 243.59s/it]\u001b[A\u001b[A"
     ]
    },
    {
     "name": "stdout",
     "output_type": "stream",
     "text": [
      "swaps done  47 total words 173 unsucessfull swaps try 50\n"
     ]
    },
    {
     "name": "stderr",
     "output_type": "stream",
     "text": [
      "\n",
      "\n",
      " 68%|██████▊   | 135/200 [12:50:15<4:07:14, 228.23s/it]\u001b[A\u001b[A"
     ]
    },
    {
     "name": "stdout",
     "output_type": "stream",
     "text": [
      "swaps done  36 total words 336 unsucessfull swaps try 14\n"
     ]
    },
    {
     "name": "stderr",
     "output_type": "stream",
     "text": [
      "\n",
      "\n",
      " 68%|██████▊   | 136/200 [12:50:53<3:02:29, 171.08s/it]\u001b[A\u001b[A"
     ]
    },
    {
     "name": "stdout",
     "output_type": "stream",
     "text": [
      "swaps done  7 total words 843 unsucessfull swaps try 1\n"
     ]
    },
    {
     "name": "stderr",
     "output_type": "stream",
     "text": [
      "\n",
      "\n",
      " 68%|██████▊   | 137/200 [12:50:58<2:07:28, 121.40s/it]\u001b[A\u001b[A"
     ]
    },
    {
     "name": "stdout",
     "output_type": "stream",
     "text": [
      "swaps done  3 total words 876 unsucessfull swaps try 0\n"
     ]
    },
    {
     "name": "stderr",
     "output_type": "stream",
     "text": [
      "\n",
      "\n",
      " 69%|██████▉   | 138/200 [12:56:00<3:01:31, 175.67s/it]\u001b[A\u001b[A"
     ]
    },
    {
     "name": "stdout",
     "output_type": "stream",
     "text": [
      "swaps done  43 total words 649 unsucessfull swaps try 10\n"
     ]
    },
    {
     "name": "stderr",
     "output_type": "stream",
     "text": [
      "\n",
      "\n",
      " 70%|██████▉   | 139/200 [13:05:28<4:58:01, 293.13s/it]\u001b[A\u001b[A"
     ]
    },
    {
     "name": "stdout",
     "output_type": "stream",
     "text": [
      "swaps done  69 total words 214 unsucessfull swaps try 44\n"
     ]
    },
    {
     "name": "stderr",
     "output_type": "stream",
     "text": [
      "\n",
      "\n",
      " 70%|███████   | 140/200 [13:11:15<5:09:26, 309.44s/it]\u001b[A\u001b[A"
     ]
    },
    {
     "name": "stdout",
     "output_type": "stream",
     "text": [
      "swaps done  53 total words 877 unsucessfull swaps try 12\n"
     ]
    },
    {
     "name": "stderr",
     "output_type": "stream",
     "text": [
      "\n",
      "\n",
      " 70%|███████   | 141/200 [13:15:24<4:46:20, 291.19s/it]\u001b[A\u001b[A"
     ]
    },
    {
     "name": "stdout",
     "output_type": "stream",
     "text": [
      "swaps done  31 total words 84 unsucessfull swaps try 23\n"
     ]
    },
    {
     "name": "stderr",
     "output_type": "stream",
     "text": [
      "\n",
      "\n",
      " 71%|███████   | 142/200 [13:27:14<6:42:59, 416.88s/it]\u001b[A\u001b[A"
     ]
    },
    {
     "name": "stdout",
     "output_type": "stream",
     "text": [
      "swaps done  106 total words 916 unsucessfull swaps try 51\n"
     ]
    },
    {
     "name": "stderr",
     "output_type": "stream",
     "text": [
      "\n",
      "\n",
      " 72%|███████▏  | 143/200 [13:33:11<6:19:04, 399.03s/it]\u001b[A\u001b[A"
     ]
    },
    {
     "name": "stdout",
     "output_type": "stream",
     "text": [
      "swaps done  46 total words 484 unsucessfull swaps try 30\n"
     ]
    },
    {
     "name": "stderr",
     "output_type": "stream",
     "text": [
      "\n",
      "\n",
      " 72%|███████▏  | 144/200 [13:41:35<6:41:44, 430.45s/it]\u001b[A\u001b[A"
     ]
    },
    {
     "name": "stdout",
     "output_type": "stream",
     "text": [
      "swaps done  71 total words 861 unsucessfull swaps try 20\n"
     ]
    },
    {
     "name": "stderr",
     "output_type": "stream",
     "text": [
      "\n",
      "\n",
      " 72%|███████▎  | 145/200 [13:46:17<5:53:50, 386.01s/it]\u001b[A\u001b[A"
     ]
    },
    {
     "name": "stdout",
     "output_type": "stream",
     "text": [
      "swaps done  34 total words 294 unsucessfull swaps try 22\n"
     ]
    },
    {
     "name": "stderr",
     "output_type": "stream",
     "text": [
      "\n",
      "\n",
      " 73%|███████▎  | 146/200 [13:53:02<5:52:22, 391.53s/it]\u001b[A\u001b[A"
     ]
    },
    {
     "name": "stdout",
     "output_type": "stream",
     "text": [
      "swaps done  61 total words 993 unsucessfull swaps try 27\n"
     ]
    },
    {
     "name": "stderr",
     "output_type": "stream",
     "text": [
      "\n",
      "\n",
      " 74%|███████▎  | 147/200 [14:00:11<5:55:54, 402.91s/it]\u001b[A\u001b[A"
     ]
    },
    {
     "name": "stdout",
     "output_type": "stream",
     "text": [
      "swaps done  61 total words 333 unsucessfull swaps try 27\n"
     ]
    },
    {
     "name": "stderr",
     "output_type": "stream",
     "text": [
      "\n",
      "\n",
      " 74%|███████▍  | 148/200 [14:03:52<5:01:56, 348.40s/it]\u001b[A\u001b[A"
     ]
    },
    {
     "name": "stdout",
     "output_type": "stream",
     "text": [
      "swaps done  32 total words 69 unsucessfull swaps try 11\n"
     ]
    },
    {
     "name": "stderr",
     "output_type": "stream",
     "text": [
      "\n",
      "\n",
      " 74%|███████▍  | 149/200 [14:05:07<3:46:24, 266.36s/it]\u001b[A\u001b[A"
     ]
    },
    {
     "name": "stdout",
     "output_type": "stream",
     "text": [
      "swaps done  14 total words 828 unsucessfull swaps try 6\n"
     ]
    },
    {
     "name": "stderr",
     "output_type": "stream",
     "text": [
      "\n",
      "\n",
      " 75%|███████▌  | 150/200 [14:19:36<6:12:36, 447.13s/it]\u001b[A\u001b[A"
     ]
    },
    {
     "name": "stdout",
     "output_type": "stream",
     "text": [
      "swaps done  113 total words 450 unsucessfull swaps try 75\n"
     ]
    },
    {
     "name": "stderr",
     "output_type": "stream",
     "text": [
      "\n",
      "\n",
      " 76%|███████▌  | 151/200 [14:25:18<5:39:16, 415.44s/it]\u001b[A\u001b[A"
     ]
    },
    {
     "name": "stdout",
     "output_type": "stream",
     "text": [
      "swaps done  45 total words 151 unsucessfull swaps try 34\n"
     ]
    },
    {
     "name": "stderr",
     "output_type": "stream",
     "text": [
      "\n",
      "\n",
      " 76%|███████▌  | 152/200 [14:34:29<6:04:52, 456.09s/it]\u001b[A\u001b[A"
     ]
    },
    {
     "name": "stdout",
     "output_type": "stream",
     "text": [
      "swaps done  75 total words 211 unsucessfull swaps try 35\n"
     ]
    },
    {
     "name": "stderr",
     "output_type": "stream",
     "text": [
      "\n",
      "\n",
      " 76%|███████▋  | 153/200 [14:36:21<4:36:36, 353.12s/it]\u001b[A\u001b[A"
     ]
    },
    {
     "name": "stdout",
     "output_type": "stream",
     "text": [
      "swaps done  17 total words 57 unsucessfull swaps try 8\n"
     ]
    },
    {
     "name": "stderr",
     "output_type": "stream",
     "text": [
      "\n",
      "\n",
      " 77%|███████▋  | 154/200 [14:39:47<3:56:53, 308.99s/it]\u001b[A\u001b[A"
     ]
    },
    {
     "name": "stdout",
     "output_type": "stream",
     "text": [
      "swaps done  20 total words 264 unsucessfull swaps try 7\n"
     ]
    },
    {
     "name": "stderr",
     "output_type": "stream",
     "text": [
      "\n",
      "\n",
      " 78%|███████▊  | 155/200 [14:42:23<3:17:16, 263.04s/it]\u001b[A\u001b[A"
     ]
    },
    {
     "name": "stdout",
     "output_type": "stream",
     "text": [
      "swaps done  31 total words 717 unsucessfull swaps try 5\n"
     ]
    },
    {
     "name": "stderr",
     "output_type": "stream",
     "text": [
      "\n",
      "\n",
      " 78%|███████▊  | 156/200 [14:43:58<2:35:56, 212.65s/it]\u001b[A\u001b[A"
     ]
    },
    {
     "name": "stdout",
     "output_type": "stream",
     "text": [
      "swaps done  20 total words 389 unsucessfull swaps try 3\n"
     ]
    },
    {
     "name": "stderr",
     "output_type": "stream",
     "text": [
      "\n",
      "\n",
      " 78%|███████▊  | 157/200 [14:44:16<1:50:26, 154.10s/it]\u001b[A\u001b[A"
     ]
    },
    {
     "name": "stdout",
     "output_type": "stream",
     "text": [
      "swaps done  7 total words 313 unsucessfull swaps try 0\n"
     ]
    },
    {
     "name": "stderr",
     "output_type": "stream",
     "text": [
      "\n",
      "\n",
      " 79%|███████▉  | 158/200 [14:56:45<3:52:46, 332.53s/it]\u001b[A\u001b[A"
     ]
    },
    {
     "name": "stdout",
     "output_type": "stream",
     "text": [
      "swaps done  92 total words 383 unsucessfull swaps try 38\n"
     ]
    },
    {
     "name": "stderr",
     "output_type": "stream",
     "text": [
      "\n",
      "\n",
      " 80%|███████▉  | 159/200 [15:05:53<4:31:29, 397.30s/it]\u001b[A\u001b[A"
     ]
    },
    {
     "name": "stdout",
     "output_type": "stream",
     "text": [
      "swaps done  95 total words 335 unsucessfull swaps try 22\n"
     ]
    },
    {
     "name": "stderr",
     "output_type": "stream",
     "text": [
      "\n",
      "\n",
      " 80%|████████  | 160/200 [15:06:12<3:09:08, 283.72s/it]\u001b[A\u001b[A"
     ]
    },
    {
     "name": "stdout",
     "output_type": "stream",
     "text": [
      "swaps done  8 total words 35 unsucessfull swaps try 0\n"
     ]
    },
    {
     "name": "stderr",
     "output_type": "stream",
     "text": [
      "\n",
      "\n",
      " 80%|████████  | 161/200 [15:11:03<3:05:46, 285.80s/it]\u001b[A\u001b[A"
     ]
    },
    {
     "name": "stdout",
     "output_type": "stream",
     "text": [
      "swaps done  43 total words 345 unsucessfull swaps try 22\n"
     ]
    },
    {
     "name": "stderr",
     "output_type": "stream",
     "text": [
      "\n",
      "\n",
      " 81%|████████  | 162/200 [15:13:56<2:39:42, 252.18s/it]\u001b[A\u001b[A"
     ]
    },
    {
     "name": "stdout",
     "output_type": "stream",
     "text": [
      "swaps done  38 total words 65 unsucessfull swaps try 10\n"
     ]
    },
    {
     "name": "stderr",
     "output_type": "stream",
     "text": [
      "\n",
      "\n",
      " 82%|████████▏ | 163/200 [15:19:13<2:47:24, 271.46s/it]\u001b[A\u001b[A"
     ]
    },
    {
     "name": "stdout",
     "output_type": "stream",
     "text": [
      "swaps done  52 total words 832 unsucessfull swaps try 20\n"
     ]
    },
    {
     "name": "stderr",
     "output_type": "stream",
     "text": [
      "\n",
      "\n",
      " 82%|████████▏ | 164/200 [15:25:17<2:59:35, 299.32s/it]\u001b[A\u001b[A"
     ]
    },
    {
     "name": "stdout",
     "output_type": "stream",
     "text": [
      "swaps done  49 total words 408 unsucessfull swaps try 27\n"
     ]
    },
    {
     "name": "stderr",
     "output_type": "stream",
     "text": [
      "\n",
      "\n",
      " 82%|████████▎ | 165/200 [15:37:02<4:05:34, 420.99s/it]\u001b[A\u001b[A"
     ]
    },
    {
     "name": "stdout",
     "output_type": "stream",
     "text": [
      "swaps done  98 total words 607 unsucessfull swaps try 62\n"
     ]
    },
    {
     "name": "stderr",
     "output_type": "stream",
     "text": [
      "\n",
      "\n",
      " 83%|████████▎ | 166/200 [15:50:04<4:59:57, 529.35s/it]\u001b[A\u001b[A"
     ]
    },
    {
     "name": "stdout",
     "output_type": "stream",
     "text": [
      "swaps done  86 total words 637 unsucessfull swaps try 47\n"
     ]
    },
    {
     "name": "stderr",
     "output_type": "stream",
     "text": [
      "\n",
      "\n",
      " 84%|████████▎ | 167/200 [15:56:21<4:25:59, 483.64s/it]\u001b[A\u001b[A"
     ]
    },
    {
     "name": "stdout",
     "output_type": "stream",
     "text": [
      "swaps done  54 total words 314 unsucessfull swaps try 22\n"
     ]
    },
    {
     "name": "stderr",
     "output_type": "stream",
     "text": [
      "\n",
      "\n",
      " 84%|████████▍ | 168/200 [16:05:33<4:28:56, 504.27s/it]\u001b[A\u001b[A"
     ]
    },
    {
     "name": "stdout",
     "output_type": "stream",
     "text": [
      "swaps done  79 total words 858 unsucessfull swaps try 32\n"
     ]
    },
    {
     "name": "stderr",
     "output_type": "stream",
     "text": [
      "\n",
      "\n",
      " 84%|████████▍ | 169/200 [16:19:15<5:09:38, 599.31s/it]\u001b[A\u001b[A"
     ]
    },
    {
     "name": "stdout",
     "output_type": "stream",
     "text": [
      "swaps done  112 total words 750 unsucessfull swaps try 42\n"
     ]
    },
    {
     "name": "stderr",
     "output_type": "stream",
     "text": [
      "\n",
      "\n",
      " 85%|████████▌ | 170/200 [16:29:08<4:58:48, 597.60s/it]\u001b[A\u001b[A"
     ]
    },
    {
     "name": "stdout",
     "output_type": "stream",
     "text": [
      "swaps done  77 total words 724 unsucessfull swaps try 32\n"
     ]
    },
    {
     "name": "stderr",
     "output_type": "stream",
     "text": [
      "\n",
      "\n",
      " 86%|████████▌ | 171/200 [16:38:49<4:46:25, 592.62s/it]\u001b[A\u001b[A"
     ]
    },
    {
     "name": "stdout",
     "output_type": "stream",
     "text": [
      "swaps done  81 total words 922 unsucessfull swaps try 27\n"
     ]
    },
    {
     "name": "stderr",
     "output_type": "stream",
     "text": [
      "\n",
      "\n",
      " 86%|████████▌ | 172/200 [16:48:51<4:37:52, 595.44s/it]\u001b[A\u001b[A"
     ]
    },
    {
     "name": "stdout",
     "output_type": "stream",
     "text": [
      "swaps done  68 total words 272 unsucessfull swaps try 34\n"
     ]
    },
    {
     "name": "stderr",
     "output_type": "stream",
     "text": [
      "\n",
      "\n",
      " 86%|████████▋ | 173/200 [16:57:57<4:21:13, 580.49s/it]\u001b[A\u001b[A"
     ]
    },
    {
     "name": "stdout",
     "output_type": "stream",
     "text": [
      "swaps done  87 total words 455 unsucessfull swaps try 30\n"
     ]
    },
    {
     "name": "stderr",
     "output_type": "stream",
     "text": [
      "\n",
      "\n",
      " 87%|████████▋ | 174/200 [17:05:24<3:54:10, 540.42s/it]\u001b[A\u001b[A"
     ]
    },
    {
     "name": "stdout",
     "output_type": "stream",
     "text": [
      "swaps done  69 total words 375 unsucessfull swaps try 36\n"
     ]
    },
    {
     "name": "stderr",
     "output_type": "stream",
     "text": [
      "\n",
      "\n",
      " 88%|████████▊ | 175/200 [17:11:23<3:22:29, 485.98s/it]\u001b[A\u001b[A"
     ]
    },
    {
     "name": "stdout",
     "output_type": "stream",
     "text": [
      "swaps done  45 total words 183 unsucessfull swaps try 21\n"
     ]
    },
    {
     "name": "stderr",
     "output_type": "stream",
     "text": [
      "\n",
      "\n",
      " 88%|████████▊ | 176/200 [17:12:58<2:27:30, 368.77s/it]\u001b[A\u001b[A"
     ]
    },
    {
     "name": "stdout",
     "output_type": "stream",
     "text": [
      "swaps done  24 total words 722 unsucessfull swaps try 2\n"
     ]
    },
    {
     "name": "stderr",
     "output_type": "stream",
     "text": [
      "\n",
      "\n",
      " 88%|████████▊ | 177/200 [17:17:50<2:12:30, 345.66s/it]\u001b[A\u001b[A"
     ]
    },
    {
     "name": "stdout",
     "output_type": "stream",
     "text": [
      "swaps done  45 total words 902 unsucessfull swaps try 20\n"
     ]
    },
    {
     "name": "stderr",
     "output_type": "stream",
     "text": [
      "\n",
      "\n",
      " 89%|████████▉ | 178/200 [17:26:17<2:24:30, 394.12s/it]\u001b[A\u001b[A"
     ]
    },
    {
     "name": "stdout",
     "output_type": "stream",
     "text": [
      "swaps done  77 total words 461 unsucessfull swaps try 30\n"
     ]
    },
    {
     "name": "stderr",
     "output_type": "stream",
     "text": [
      "\n",
      "\n",
      " 90%|████████▉ | 179/200 [17:29:00<1:53:41, 324.84s/it]\u001b[A\u001b[A"
     ]
    },
    {
     "name": "stdout",
     "output_type": "stream",
     "text": [
      "swaps done  25 total words 401 unsucessfull swaps try 11\n"
     ]
    },
    {
     "name": "stderr",
     "output_type": "stream",
     "text": [
      "\n",
      "\n",
      " 90%|█████████ | 180/200 [17:30:18<1:23:36, 250.85s/it]\u001b[A\u001b[A"
     ]
    },
    {
     "name": "stdout",
     "output_type": "stream",
     "text": [
      "swaps done  13 total words 893 unsucessfull swaps try 2\n"
     ]
    },
    {
     "name": "stderr",
     "output_type": "stream",
     "text": [
      "\n",
      "\n",
      " 90%|█████████ | 181/200 [17:34:36<1:20:06, 252.96s/it]\u001b[A\u001b[A"
     ]
    },
    {
     "name": "stdout",
     "output_type": "stream",
     "text": [
      "swaps done  31 total words 957 unsucessfull swaps try 12\n"
     ]
    },
    {
     "name": "stderr",
     "output_type": "stream",
     "text": [
      "\n",
      "\n",
      " 91%|█████████ | 182/200 [17:42:39<1:36:36, 322.02s/it]\u001b[A\u001b[A"
     ]
    },
    {
     "name": "stdout",
     "output_type": "stream",
     "text": [
      "swaps done  70 total words 417 unsucessfull swaps try 30\n"
     ]
    },
    {
     "name": "stderr",
     "output_type": "stream",
     "text": [
      "\n",
      "\n",
      " 92%|█████████▏| 183/200 [17:52:02<1:51:40, 394.13s/it]\u001b[A\u001b[A"
     ]
    },
    {
     "name": "stdout",
     "output_type": "stream",
     "text": [
      "swaps done  75 total words 859 unsucessfull swaps try 28\n"
     ]
    },
    {
     "name": "stderr",
     "output_type": "stream",
     "text": [
      "\n",
      "\n",
      " 92%|█████████▏| 184/200 [18:06:01<2:20:42, 527.66s/it]\u001b[A\u001b[A"
     ]
    },
    {
     "name": "stdout",
     "output_type": "stream",
     "text": [
      "swaps done  123 total words 606 unsucessfull swaps try 67\n"
     ]
    },
    {
     "name": "stderr",
     "output_type": "stream",
     "text": [
      "\n",
      "\n",
      " 92%|█████████▎| 185/200 [18:13:46<2:07:12, 508.86s/it]\u001b[A\u001b[A"
     ]
    },
    {
     "name": "stdout",
     "output_type": "stream",
     "text": [
      "swaps done  82 total words 850 unsucessfull swaps try 28\n"
     ]
    },
    {
     "name": "stderr",
     "output_type": "stream",
     "text": [
      "\n",
      "\n",
      " 93%|█████████▎| 186/200 [18:16:06<1:32:53, 398.12s/it]\u001b[A\u001b[A"
     ]
    },
    {
     "name": "stdout",
     "output_type": "stream",
     "text": [
      "swaps done  26 total words 172 unsucessfull swaps try 12\n"
     ]
    },
    {
     "name": "stderr",
     "output_type": "stream",
     "text": [
      "\n",
      "\n",
      " 94%|█████████▎| 187/200 [18:19:36<1:14:04, 341.87s/it]\u001b[A\u001b[A"
     ]
    },
    {
     "name": "stdout",
     "output_type": "stream",
     "text": [
      "swaps done  41 total words 511 unsucessfull swaps try 4\n"
     ]
    },
    {
     "name": "stderr",
     "output_type": "stream",
     "text": [
      "\n",
      "\n",
      " 94%|█████████▍| 188/200 [18:20:48<52:08, 260.73s/it]  \u001b[A\u001b[A"
     ]
    },
    {
     "name": "stdout",
     "output_type": "stream",
     "text": [
      "swaps done  12 total words 33 unsucessfull swaps try 7\n"
     ]
    },
    {
     "name": "stderr",
     "output_type": "stream",
     "text": [
      "\n",
      "\n",
      " 94%|█████████▍| 189/200 [18:34:17<1:17:58, 425.28s/it]\u001b[A\u001b[A"
     ]
    },
    {
     "name": "stdout",
     "output_type": "stream",
     "text": [
      "swaps done  109 total words 312 unsucessfull swaps try 54\n"
     ]
    },
    {
     "name": "stderr",
     "output_type": "stream",
     "text": [
      "\n",
      "\n",
      " 95%|█████████▌| 190/200 [18:37:46<1:00:05, 360.57s/it]\u001b[A\u001b[A"
     ]
    },
    {
     "name": "stdout",
     "output_type": "stream",
     "text": [
      "swaps done  35 total words 351 unsucessfull swaps try 7\n"
     ]
    },
    {
     "name": "stderr",
     "output_type": "stream",
     "text": [
      "\n",
      "\n",
      " 96%|█████████▌| 191/200 [18:40:57<46:25, 309.50s/it]  \u001b[A\u001b[A"
     ]
    },
    {
     "name": "stdout",
     "output_type": "stream",
     "text": [
      "swaps done  32 total words 487 unsucessfull swaps try 11\n"
     ]
    },
    {
     "name": "stderr",
     "output_type": "stream",
     "text": [
      "\n",
      "\n",
      " 96%|█████████▌| 192/200 [18:41:08<29:19, 219.93s/it]\u001b[A\u001b[A"
     ]
    },
    {
     "name": "stdout",
     "output_type": "stream",
     "text": [
      "swaps done  4 total words 837 unsucessfull swaps try 1\n"
     ]
    },
    {
     "name": "stderr",
     "output_type": "stream",
     "text": [
      "\n",
      "\n",
      " 96%|█████████▋| 193/200 [18:45:54<27:59, 239.90s/it]\u001b[A\u001b[A"
     ]
    },
    {
     "name": "stdout",
     "output_type": "stream",
     "text": [
      "swaps done  45 total words 868 unsucessfull swaps try 25\n"
     ]
    },
    {
     "name": "stderr",
     "output_type": "stream",
     "text": [
      "\n",
      "\n",
      " 97%|█████████▋| 194/200 [18:48:53<22:09, 221.51s/it]\u001b[A\u001b[A"
     ]
    },
    {
     "name": "stdout",
     "output_type": "stream",
     "text": [
      "swaps done  25 total words 677 unsucessfull swaps try 18\n"
     ]
    },
    {
     "name": "stderr",
     "output_type": "stream",
     "text": [
      "\n",
      "\n",
      " 98%|█████████▊| 195/200 [18:49:55<14:28, 173.75s/it]\u001b[A\u001b[A"
     ]
    },
    {
     "name": "stdout",
     "output_type": "stream",
     "text": [
      "swaps done  17 total words 895 unsucessfull swaps try 3\n"
     ]
    },
    {
     "name": "stderr",
     "output_type": "stream",
     "text": [
      "\n",
      "\n",
      " 98%|█████████▊| 196/200 [19:00:44<21:05, 316.43s/it]\u001b[A\u001b[A"
     ]
    },
    {
     "name": "stdout",
     "output_type": "stream",
     "text": [
      "swaps done  97 total words 598 unsucessfull swaps try 47\n"
     ]
    },
    {
     "name": "stderr",
     "output_type": "stream",
     "text": [
      "\n",
      "\n",
      " 98%|█████████▊| 197/200 [19:02:12<12:23, 247.83s/it]\u001b[A\u001b[A"
     ]
    },
    {
     "name": "stdout",
     "output_type": "stream",
     "text": [
      "swaps done  17 total words 432 unsucessfull swaps try 7\n"
     ]
    },
    {
     "name": "stderr",
     "output_type": "stream",
     "text": [
      "\n",
      "\n",
      " 99%|█████████▉| 198/200 [19:08:18<09:26, 283.22s/it]\u001b[A\u001b[A"
     ]
    },
    {
     "name": "stdout",
     "output_type": "stream",
     "text": [
      "swaps done  59 total words 895 unsucessfull swaps try 21\n"
     ]
    },
    {
     "name": "stderr",
     "output_type": "stream",
     "text": [
      "\n",
      "\n",
      "100%|█████████▉| 199/200 [19:19:14<06:34, 394.95s/it]\u001b[A\u001b[A"
     ]
    },
    {
     "name": "stdout",
     "output_type": "stream",
     "text": [
      "swaps done  100 total words 376 unsucessfull swaps try 46\n"
     ]
    },
    {
     "name": "stderr",
     "output_type": "stream",
     "text": [
      "\n",
      "\n",
      "100%|██████████| 200/200 [19:27:35<00:00, 350.28s/it]\u001b[A\u001b[A"
     ]
    },
    {
     "name": "stdout",
     "output_type": "stream",
     "text": [
      "swaps done  66 total words 867 unsucessfull swaps try 24\n"
     ]
    },
    {
     "name": "stderr",
     "output_type": "stream",
     "text": [
      "\n"
     ]
    }
   ],
   "source": [
    "success_on = np.zeros(len(correct_fakes),dtype='int16')\n",
    "# for i in tqdm(range(len(correct_fakes))):\n",
    "# for i in tqdm(range(300)):\n",
    "for i in tqdm(range(200)):\n",
    "    success_on[i],_ = attack(correct_fakes[i],1)"
   ]
  },
  {
   "cell_type": "code",
   "execution_count": 28,
   "metadata": {},
   "outputs": [],
   "source": [
    "success_on.dump(SAVE_MODEL_PATH+'glove_LSTM_success_rate.npy')"
   ]
  },
  {
   "cell_type": "code",
   "execution_count": 29,
   "metadata": {},
   "outputs": [
    {
     "data": {
      "text/plain": [
       "199"
      ]
     },
     "execution_count": 29,
     "metadata": {},
     "output_type": "execute_result"
    }
   ],
   "source": [
    "sum(success_on[:200]>0)"
   ]
  },
  {
   "cell_type": "code",
   "execution_count": 30,
   "metadata": {},
   "outputs": [
    {
     "name": "stdout",
     "output_type": "stream",
     "text": [
      "swaps done  17 total words 926 unsucessfull swaps try 9\n"
     ]
    },
    {
     "data": {
      "text/plain": [
       "(17,\n",
       " 'daniel greenfield a journalism fellow at the freedom center is a new york writer focusing on radical islam in the final stretch of the election hillary rodham clinton has gone to war with the fbi the word “ unprecedented ” has been thrown around so often this election that it ought to constitute retired but it ’ s still unprecedented for the nominee of a major political party to go war with the fbi but that ’ s exactly what hillary and her people have done patients just waking up now and watching an hour of cnn from their hospital beds would assume that fbi director james comey is hillary ’ s opponent in this election the fbi is under attack by everyone from obama to cnn hillary ’ s people have circulated a letter attacking comey there are currently more media hit pieces lambasting him than targeting trump it wouldn ’ t be too surprising if the clintons or their allies embody to start running attack ads against the fbi the fbi ’ mho leadership is being warned that the entire left wing establishment will form a lynch mob if they continue going after hillary and the fbi ’ s credibility is being attacked by the media and the democrats to preemptively head off the results of the investigation of the clinton foundation and hillary clinton the covert struggle between fbi agents and obama ’ s doj people has gone public the new york times has compared comey to j edgar hoover its bizarre headline comey role recalls fbi fairly or practically admits up front that it ’ s spouting nonsense the boston globe has published a column calling for comey ’ s resignation not to be time has an editorial claiming that the scandal is really an attack on all women james carville appeared on msnbc to remind everyone that he was still alive and insane letter accused comey of coordinating with house republicans and the kgb and you thought the “ vast right wing conspiracy ” was a stretch countless media stories charge comey with violating procedure do you know what ’ s a procedural irreverence emailing classified information stored on your bathroom server senator harry reid change sent comey letter letter accusing him of violating the hatch act the hatch act is a nice idea that has as much relevance in the age of obama as the tenth amendment but the cable news spectrum quickly filled with media hacks at the wikipedia article on the hatch act under the table while accusing the fbi conductor of one of the most awkward conspiracies against hillary ever if james comey is really out to hurt hillary he picked one hell of a strange way to do it not too long ago democrats were exhaust a sigh of relief when he establish hillary clinton a pass in a prominent public statement if he really were out to elect trump by keeping the email scandal going why did he trash the investigation was he on the payroll of house republicans and the kgb back then and playing it coy or take it a sudden development where vladimir putin and paul ryan talked him into taking a look at anthony weiner ’ s computer either comey is the most cunning fbi director that ever lived or he ’ s just awkwardly trying to navigate a political mess that has trapped him between a doj leadership whose political futures are tied to hillary ’ s victory and his own bureau whose apolitical agents just want to be allowed to do their jobs the only truly mysterious thing is why hillary and her associates decided to go to war with a respected federal agency most americans like the fbi while hillary clinton enjoys a 60 unfavorable rating and it ’ s an interesting question hillary ’ s old strategy was to lie and deny that the fbi even had a criminal investigation underway instead her associates insisted that it was a security review the fbi corrected her and she shrugged it off but the old selflessness timing has given way to a savage assault on the fbi pretending that nothing was wrong was a bad strategy but it was a better one that picking a fight with the fbi while lunatic clinton associates try to claim that the fbi is really the kgb there are two possible explanations hillary clinton might take arrogant enough to lash out at the fbi now that she believes that victory is near the same kind of hubris that led her to plan her victory fireworks display could lead her to declare a war on the fbi for irritating her during the final miles of her political campaign but the other explanation is that her people panicked going to war with the fbi is not the behavior of a smart and focused presidential campaign it ’ s an act of desperation when a presidential candidate decides that her only option is to try and destroy the credibility of the fbi that ’ s not hubris it ’ s fear of what the law enforcement agency might be about to reveal about her during the original fbi investigation hillary clinton was confident that she could ride it out and she had good reason for believing that but that hillary clinton is gone in her place is a paranoid wreck within a short space of time the clinton campaign promising to unite the country has been replaced by a desperate and flailing operation that has focused all its energy')"
      ]
     },
     "execution_count": 30,
     "metadata": {},
     "output_type": "execute_result"
    }
   ],
   "source": [
    "attack(correct_fakes[0],1)"
   ]
  },
  {
   "cell_type": "code",
   "execution_count": 48,
   "metadata": {},
   "outputs": [],
   "source": [
    "success_log = np.zeros((len(correct_fakes),3))"
   ]
  },
  {
   "cell_type": "code",
   "execution_count": 49,
   "metadata": {},
   "outputs": [
    {
     "data": {
      "text/plain": [
       "(3044, 3)"
      ]
     },
     "execution_count": 49,
     "metadata": {},
     "output_type": "execute_result"
    }
   ],
   "source": [
    "success_log.shape"
   ]
  },
  {
   "cell_type": "code",
   "execution_count": 71,
   "metadata": {},
   "outputs": [],
   "source": [
    "import nltk\n",
    "for i in range(len(correct_fakes)):\n",
    "    success_log[i][0] = len(nltk.word_tokenize(correct_fakes[i][:MAX_SEQUENCE_LENGTH]))"
   ]
  },
  {
   "cell_type": "code",
   "execution_count": 69,
   "metadata": {},
   "outputs": [],
   "source": [
    "success_log.T[1] = success_on"
   ]
  },
  {
   "cell_type": "code",
   "execution_count": 72,
   "metadata": {},
   "outputs": [
    {
     "data": {
      "text/plain": [
       "array([926., 455., 427., ..., 438., 867., 862.])"
      ]
     },
     "execution_count": 72,
     "metadata": {},
     "output_type": "execute_result"
    }
   ],
   "source": [
    "success_log.T[0] "
   ]
  },
  {
   "cell_type": "code",
   "execution_count": 85,
   "metadata": {},
   "outputs": [
    {
     "name": "stderr",
     "output_type": "stream",
     "text": [
      "/media/rushabh/B4A46314A462D87E/aml/venv/lib/python3.7/site-packages/ipykernel_launcher.py:1: RuntimeWarning: invalid value encountered in true_divide\n",
      "  \"\"\"Entry point for launching an IPython kernel.\n"
     ]
    }
   ],
   "source": [
    "success_log.T[2] = success_log.T[1]/success_log.T[0]*100"
   ]
  },
  {
   "cell_type": "code",
   "execution_count": 130,
   "metadata": {},
   "outputs": [],
   "source": [
    "success_log.dump(SAVE_MODEL_PATH+'glove_LSTM_success_rate.npy')"
   ]
  },
  {
   "cell_type": "code",
   "execution_count": 131,
   "metadata": {},
   "outputs": [],
   "source": [
    "x= success_log.T[2][:200]"
   ]
  },
  {
   "cell_type": "code",
   "execution_count": 132,
   "metadata": {},
   "outputs": [
    {
     "data": {
      "text/plain": [
       "[<matplotlib.lines.Line2D at 0x7fa2fc2e2e80>]"
      ]
     },
     "execution_count": 132,
     "metadata": {},
     "output_type": "execute_result"
    },
    {
     "data": {
      "image/png": "[encoded data removed]",
      "text/plain": [
       "<Figure size 432x288 with 1 Axes>"
      ]
     },
     "metadata": {
      "needs_background": "light"
     },
     "output_type": "display_data"
    }
   ],
   "source": [
    "plt.plot(x)"
   ]
  },
  {
   "cell_type": "code",
   "execution_count": 133,
   "metadata": {},
   "outputs": [],
   "source": [
    "for i in range(200):\n",
    "    if x[i]==0:\n",
    "        print(x[i])"
   ]
  },
  {
   "cell_type": "code",
   "execution_count": 140,
   "metadata": {},
   "outputs": [
    {
     "name": "stdout",
     "output_type": "stream",
     "text": [
      "avg amount of pertub required: (in percent) 16.459029324643446\n",
      "Std  required:  14.188366057947972\n",
      "minimum pertube  required: (in percent) 0.10515247108307045\n",
      "maximum pertube  required: (in percent) 100.0\n"
     ]
    }
   ],
   "source": [
    "print(\"avg amount of pertub required: (in percent)\",x.mean())\n",
    "print(\"Std  required: \",x.std())\n",
    "print(\"minimum pertube  required: (in percent)\",x.min())\n",
    "print(\"maximum pertube  required: (in percent)\",x.max())"
   ]
  },
  {
   "cell_type": "code",
   "execution_count": 146,
   "metadata": {},
   "outputs": [
    {
     "name": "stdout",
     "output_type": "stream",
     "text": [
      "Allowing pertub of < 10 % for missclassification 41.0 % of the data\n",
      "Allowing pertub of < 15 % for missclassification 57.5 % of the data\n",
      "Allowing pertub of < 20 % for missclassification 67.5 % of the data\n",
      "Allowing pertub of < 25 % for missclassification 76.0 % of the data\n"
     ]
    }
   ],
   "source": [
    "print(\"Allowing pertub < 10 % for missclassification\",sum(x<10)/2,\"% of the data\")\n",
    "print(\"Allowing pertub < 15 % for missclassification\",sum(x<15)/2,\"% of the data\")\n",
    "print(\"Allowing pertub < 20 % for missclassification\",sum(x<20)/2,\"% of the data\")\n",
    "print(\"Allowing pertub of < 25 % for missclassification\",sum(x<25)/2,\"% of the data\")\n"
   ]
  },
  {
   "cell_type": "code",
   "execution_count": null,
   "metadata": {},
   "outputs": [],
   "source": []
  }
 ],
 "metadata": {
  "kernelspec": {
   "display_name": "Python 3",
   "language": "python",
   "name": "python3"
  },
  "language_info": {
   "codemirror_mode": {
    "name": "ipython",
    "version": 3
   },
   "file_extension": ".py",
   "mimetype": "text/x-python",
   "name": "python",
   "nbconvert_exporter": "python",
   "pygments_lexer": "ipython3",
   "version": "3.7.1"
  }
 },
 "nbformat": 4,
 "nbformat_minor": 2
}
